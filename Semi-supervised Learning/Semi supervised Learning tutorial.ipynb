{
 "cells": [
  {
   "attachments": {},
   "cell_type": "markdown",
   "id": "5e3b57f2",
   "metadata": {},
   "source": [
    "### 본 듀토리얼은 CIFAR10 데이터에 대해 Pseudo Labeling Methods 2가지와 VGG16을 비교한 내용을 담고 있다.\n",
    "\n",
    "#### Self-Training\n",
    "Self-Training은 준지도학습(semi-supervised) 방법 중에서 가장 간단한 방법이다. 먼저 소량의 레이블이 존재하는 데이터(labeled data)로 모델을 학습시킨다. 이후 이 모델을 가지고 레이블이 없는 데이터(unlabeled data)를 예측한다.(pseudo labeling) 이후 labeled data와 pseudo labeled data를 활용하여 모델을 재학습한다. Unlabeled data를 예측하여 pseudo label을 할당하는 모델을 ‘Teacher Model’이라고 하고, Labeled data와 pseudo labeed data를 활용하여 학습하는 모델을 ‘Student Model’이라고 한다. Self-Training 방법은 teacher model의 성능이 좋지 않으면, 신뢰도 높은 pseudo label을 확보하지 못한다. 즉, 적절한 semi-supervised learning이 이뤄지기 어려운 것이다. 원래는 소량의 label data만을 사용해야 하지만 teacher model의 영향력을 고려하여 label data를 1000개, unlabeled data(pseudo label dataset)를 1000개로 하였다. 이후 500개의 test dataset을 가지고 평가를 하였다. \n",
    "\n",
    "#### Noisy student\n",
    "Noisy Student는 teacher model과 크기가 같거나 더 큰 student model을 사용하는, knowledge distillation 에 영감을 받은 semi-supervised 방법론이다. 먼저 Teacher Model을 labeled image로 학습 후 unlabeled data의 pseudo label을 생성한다. 이후 teacher model보다 크기가 큰 모델을 student model로 사용하여 labeled data+unlabeled data(pseudo label dataset)로 학습한다. 마지막으로 학습된 student model을 새로운 teacher model로 활용한다. 데이터셋 분할은 self-training과 똑같이 하였으며 (1)Data Augmentation (2)Dropout (3)Stochastic Depth (4)Data filtering의 4가지 noise 방식을 추가하였다.\n",
    "\n",
    "#### 결과 해석\n",
    "Semi-supervised learning 방법론 두 가지를 실험해 보았다. 처음에 label data를 500개로 하였다가 너무 teacher model의 성능이 너무 떨어져서 1000개로 올렸었다. 아주 약간의 성능 변화만 있었을 뿐 큰 차이는 없었다. 이전에 실험했었던 supervised learning의 VGG16의 경우 epoch를 낮게하여 학습을 했을 때도 매우 높은 성능을 달성했었다. 해당 결과와 비교를 했을 때, semi-supervised learning 방법들은 크게 좋다고 보기는 어려울 것 같다."
   ]
  },
  {
   "cell_type": "code",
   "execution_count": 4,
   "id": "fa95e6eb",
   "metadata": {},
   "outputs": [],
   "source": [
    "import os\n",
    "import cv2\n",
    "import torch\n",
    "import random\n",
    "import numpy as np\n",
    "import torch.nn as nn\n",
    "import torch.optim as optim\n",
    "import torch.utils.data as data_util\n",
    "import matplotlib.pyplot as plt\n",
    "import torch.nn.functional as F\n",
    "\n",
    "from tqdm import tqdm\n",
    "from sklearn.metrics import classification_report"
   ]
  },
  {
   "cell_type": "code",
   "execution_count": 5,
   "id": "15ff1040",
   "metadata": {},
   "outputs": [],
   "source": [
    "device = torch.device(\"cuda\" if torch.cuda.is_available() else \"cpu\")"
   ]
  },
  {
   "cell_type": "code",
   "execution_count": 6,
   "id": "eb3afac7",
   "metadata": {},
   "outputs": [
    {
     "data": {
      "text/plain": [
       "'c:\\\\Users\\\\RohSeungChan\\\\.git\\\\Business-Analytics\\\\Business-Analytics\\\\Semi-supervised Learning'"
      ]
     },
     "execution_count": 6,
     "metadata": {},
     "output_type": "execute_result"
    }
   ],
   "source": [
    "os.getcwd()"
   ]
  },
  {
   "cell_type": "code",
   "execution_count": 7,
   "id": "cbd9c14b",
   "metadata": {},
   "outputs": [],
   "source": [
    "TRAIN_DATADIR = r'C:\\Users\\RohSeungChan\\.git\\Business-Analytics\\Business-Analytics\\Semi-supervised Learning\\CIFAR-10-images-master\\train'\n",
    "CATEGORIES = ['airplane', 'automobile', 'bird', 'cat','deer', 'dog', 'frog', 'horse', 'ship', 'truck']"
   ]
  },
  {
   "cell_type": "code",
   "execution_count": 8,
   "id": "0b69e18e",
   "metadata": {},
   "outputs": [],
   "source": [
    "\"\"\"train data 생성\"\"\"\n",
    "def create_training_data(slice_num_start, slice_num_end, data_list):\n",
    "    for i in range(len(CATEGORIES)):\n",
    "        category = CATEGORIES[i]\n",
    "        path = os.path.join(TRAIN_DATADIR, category)\n",
    "        for img in os.listdir(path)[slice_num_start:slice_num_end]:\n",
    "            img_array = np.fromfile(os.path.join(path, img), np.uint8)\n",
    "            curImg = cv2.imdecode(img_array,  cv2.IMREAD_COLOR)\n",
    "            data_list.append([curImg, i])\n",
    "\n",
    "    return data_list"
   ]
  },
  {
   "cell_type": "code",
   "execution_count": 9,
   "id": "f131451d",
   "metadata": {},
   "outputs": [],
   "source": [
    "# load train data       \n",
    "training_data = []     \n",
    "training_dataset = create_training_data(0, 1000, training_data)\n",
    "\n",
    "# teacher model train data\n",
    "train_dataloader = data_util.DataLoader(training_dataset, batch_size=64, shuffle=True)"
   ]
  },
  {
   "cell_type": "code",
   "execution_count": 10,
   "id": "62c3ca8b",
   "metadata": {},
   "outputs": [],
   "source": [
    "\"\"\"Psuedo data 생성\"\"\"\n",
    "# load psuedo data\n",
    "psuedo_data = []\n",
    "psuedo_dataset = create_training_data(1000, 1500, psuedo_data)\n",
    "psuedo_dataset = random.sample(psuedo_dataset, len(psuedo_dataset))"
   ]
  },
  {
   "cell_type": "code",
   "execution_count": 11,
   "id": "a562e526",
   "metadata": {},
   "outputs": [],
   "source": [
    "\"\"\"test data 생성\"\"\"\n",
    "TEST_DATADIR = r'C:\\Users\\RohSeungChan\\.git\\Business-Analytics\\Business-Analytics\\Semi-supervised Learning\\CIFAR-10-images-master\\test'\n",
    "\n",
    "def create_test_data(slice_num_start, slice_num_end, data_list):\n",
    "    for i in range(len(CATEGORIES)):\n",
    "        category = CATEGORIES[i]\n",
    "        path = os.path.join(TEST_DATADIR, category)\n",
    "        for img in os.listdir(path)[slice_num_start:slice_num_end]:\n",
    "            img_array = np.fromfile(os.path.join(path, img), np.uint8)\n",
    "            curImg = cv2.imdecode(img_array,  cv2.IMREAD_COLOR)\n",
    "            data_list.append([curImg, i])\n",
    "\n",
    "    return data_list\n",
    "\n",
    "# load test data\n",
    "test_dataset = []\n",
    "test_dataset = create_test_data(0, 300, test_dataset)\n",
    "test_dataset = random.sample(test_dataset, len(test_dataset))"
   ]
  },
  {
   "cell_type": "code",
   "execution_count": 12,
   "id": "c60848cd",
   "metadata": {},
   "outputs": [],
   "source": [
    "\"\"\"베이스 라인\"\"\"\n",
    "class Base_net(nn.Module):\n",
    "    def __init__(self):\n",
    "        super().__init__()\n",
    "        self.conv1 = nn.Conv2d(3, 6, 5)\n",
    "        self.pool = nn.MaxPool2d(2, 2)\n",
    "        # self.conv2 = nn.Conv2d(6, 16, 5)\n",
    "        self.fc1 = nn.Linear(1176, 120)\n",
    "        self.fc2 = nn.Linear(120, 84)\n",
    "        self.fc3 = nn.Linear(84, 10)\n",
    "\n",
    "    def forward(self, x):\n",
    "        x = self.pool(F.relu(self.conv1(x)))\n",
    "        # x = self.pool(F.relu(self.conv2(x)))\n",
    "        x = torch.flatten(x, 1) # 배치를 제외한 모든 차원을 평탄화(flatten)\n",
    "        x = F.relu(self.fc1(x))\n",
    "        x = F.relu(self.fc2(x))\n",
    "        x = self.fc3(x)\n",
    "        return x"
   ]
  },
  {
   "cell_type": "code",
   "execution_count": 13,
   "id": "9da6d346",
   "metadata": {
    "scrolled": true
   },
   "outputs": [
    {
     "name": "stderr",
     "output_type": "stream",
     "text": [
      "  0%|          | 0/150 [00:00<?, ?it/s]c:\\Users\\RohSeungChan\\Anaconda3\\envs\\torch-gpu\\lib\\site-packages\\ipykernel_launcher.py:18: UserWarning: To copy construct from a tensor, it is recommended to use sourceTensor.clone().detach() or sourceTensor.clone().detach().requires_grad_(True), rather than torch.tensor(sourceTensor).\n",
      "100%|██████████| 150/150 [01:36<00:00,  1.56it/s]"
     ]
    },
    {
     "name": "stdout",
     "output_type": "stream",
     "text": [
      "Finished Training\n"
     ]
    },
    {
     "name": "stderr",
     "output_type": "stream",
     "text": [
      "\n"
     ]
    }
   ],
   "source": [
    "\"\"\"teacher model 학습\"\"\"\n",
    "#initialize teacher model\n",
    "teacher = Base_net().to(device)\n",
    "# model parameter\n",
    "criterion = nn.CrossEntropyLoss()\n",
    "optimizer = optim.Adam(teacher.parameters(), lr=0.001)\n",
    "epoch = 150\n",
    "\n",
    "loss_history = []\n",
    "## train\n",
    "for epoch in tqdm(range(epoch)):   # 데이터셋을 수차례 반복합니다.\n",
    "    running_loss = 0.0\n",
    "    for i, data in enumerate(train_dataloader, 0):\n",
    "        # [inputs, labels]의 목록인 data로부터 입력을 받은 후;\n",
    "        inputs, labels = data\n",
    "        inputs = torch.tensor(inputs.permute(0,3,1,2)).float().to(device)\n",
    "        labels = labels.to(device)\n",
    "        # 변화도(Gradient) 매개변수를 0으로 만들고\n",
    "        optimizer.zero_grad()\n",
    "\n",
    "        # 순전파 + 역전파 + 최적화를 한 후\n",
    "        outputs = teacher(inputs)\n",
    "        loss = criterion(outputs, labels)\n",
    "        loss.backward()\n",
    "        optimizer.step()\n",
    "        # 통계를 출력합니다.\n",
    "        running_loss += loss.item()\n",
    "        # print('%s=> loss: %.3f' %(i, loss))\n",
    "        loss_history.append(loss.cpu().detach())\n",
    "\n",
    "print('Finished Training')\n"
   ]
  },
  {
   "cell_type": "code",
   "execution_count": 14,
   "id": "840cd932",
   "metadata": {},
   "outputs": [],
   "source": [
    "# # Load Model\n",
    "load_module_PATH = r'model'  \n",
    "teacher = Net()\n",
    "teacher.load_state_dict(torch.load(load_module_PATH + 'cifar10_teacher.pt'))\n",
    "teacher = teacher.to(device)"
   ]
  },
  {
   "attachments": {},
   "cell_type": "markdown",
   "id": "7247e8a8",
   "metadata": {},
   "source": [
    "----"
   ]
  },
  {
   "attachments": {},
   "cell_type": "markdown",
   "id": "f83ff4ac",
   "metadata": {},
   "source": [
    "### Pseudo Labeling Methods : Self-training"
   ]
  },
  {
   "cell_type": "code",
   "execution_count": 15,
   "id": "5d773119",
   "metadata": {},
   "outputs": [],
   "source": [
    "\"\"\"Psuedo labeling\"\"\"\n",
    "new_psuedo_dataset = []\n",
    "for i, data in enumerate(psuedo_dataset, 0):\n",
    "    # [inputs, labels]의 목록인 data로부터 입력을 받은 후;\n",
    "    inputs, labels = data\n",
    "    inputs = torch.tensor(inputs).float().unsqueeze(0).permute(0, 3, 1, 2).to(device)\n",
    "\n",
    "    # create pseudo label\n",
    "    outputs = teacher(inputs)\n",
    "    new_label = torch.softmax(outputs, -1)\n",
    "    y = int(torch.argmax(new_label, dim=1))\n",
    "    new_psuedo_dataset.append([np.array(inputs.squeeze(0).permute(1, 2, 0).cpu().detach().int()), y])\n",
    "\n",
    "# create psuedo data (append train data with pseudo data)\n",
    "student_dataset = training_dataset + new_psuedo_dataset\n",
    "new_psuedo_dataloader = data_util.DataLoader(student_dataset, batch_size=64, shuffle=True)"
   ]
  },
  {
   "cell_type": "code",
   "execution_count": 16,
   "id": "e16baa66",
   "metadata": {},
   "outputs": [
    {
     "name": "stderr",
     "output_type": "stream",
     "text": [
      "  0%|          | 0/149 [00:00<?, ?it/s]c:\\Users\\RohSeungChan\\Anaconda3\\envs\\torch-gpu\\lib\\site-packages\\ipykernel_launcher.py:11: UserWarning: To copy construct from a tensor, it is recommended to use sourceTensor.clone().detach() or sourceTensor.clone().detach().requires_grad_(True), rather than torch.tensor(sourceTensor).\n",
      "  # This is added back by InteractiveShellApp.init_path()\n",
      "100%|██████████| 149/149 [02:28<00:00,  1.00it/s]"
     ]
    },
    {
     "name": "stdout",
     "output_type": "stream",
     "text": [
      "Finished Training\n"
     ]
    },
    {
     "name": "stderr",
     "output_type": "stream",
     "text": [
      "\n"
     ]
    },
    {
     "data": {
      "text/plain": [
       "[<matplotlib.lines.Line2D at 0x1e53ac1d608>]"
      ]
     },
     "execution_count": 16,
     "metadata": {},
     "output_type": "execute_result"
    },
    {
     "data": {
      "image/png": "[encoded data removed]",
      "text/plain": [
       "<Figure size 432x288 with 1 Axes>"
      ]
     },
     "metadata": {
      "needs_background": "light"
     },
     "output_type": "display_data"
    }
   ],
   "source": [
    "\"\"\"student model 학습\"\"\"\n",
    "loss_history = []\n",
    "## train\n",
    "for epoch in tqdm(range(epoch)):   # 데이터셋을 수차례 반복합니다.\n",
    "    running_loss = 0.0\n",
    "    for i, data in enumerate(new_psuedo_dataloader, 0):\n",
    "        # [inputs, labels]의 목록인 data로부터 입력을 받은 후;\n",
    "        inputs, labels = data\n",
    "        inputs = torch.tensor(inputs.permute(0,3,1,2)).float().to(device)\n",
    "        labels = labels.to(device)\n",
    "        # 변화도(Gradient) 매개변수를 0으로 만들고\n",
    "        optimizer.zero_grad()\n",
    "\n",
    "        # 순전파 + 역전파 + 최적화를 한 후\n",
    "        outputs = teacher(inputs)\n",
    "        loss = criterion(outputs, labels)\n",
    "        loss.backward()\n",
    "        optimizer.step()\n",
    "        # 통계를 출력합니다.\n",
    "        running_loss += loss.item()\n",
    "        # print('%s=> loss: %.3f' %(i, loss))\n",
    "        loss_history.append(loss.cpu().detach())\n",
    "\n",
    "print('Finished Training')\n",
    "plt.plot(np.array(loss_history))"
   ]
  },
  {
   "cell_type": "code",
   "execution_count": 17,
   "id": "b812944d",
   "metadata": {},
   "outputs": [],
   "source": [
    "# 저장\n",
    "save_module_PATH = r'model'\n",
    "torch.save(teacher.state_dict(), save_module_PATH + 'cifar10_student.pt')"
   ]
  },
  {
   "cell_type": "code",
   "execution_count": 18,
   "id": "290859fb",
   "metadata": {},
   "outputs": [],
   "source": [
    "# 불러오기\n",
    "load_module_PATH = r'model' \n",
    "student = Net()\n",
    "student.load_state_dict(torch.load(load_module_PATH + 'cifar10_student.pt'))\n",
    "student = student.to(device)"
   ]
  },
  {
   "cell_type": "code",
   "execution_count": 19,
   "id": "f77acdc1",
   "metadata": {
    "scrolled": true
   },
   "outputs": [
    {
     "name": "stdout",
     "output_type": "stream",
     "text": [
      "              precision    recall  f1-score   support\n",
      "\n",
      "    airplane       0.52      0.49      0.51       300\n",
      "  automobile       0.53      0.55      0.54       300\n",
      "        bird       0.34      0.35      0.34       300\n",
      "         cat       0.27      0.25      0.26       300\n",
      "        deer       0.35      0.38      0.37       300\n",
      "         dog       0.36      0.34      0.35       300\n",
      "        frog       0.50      0.56      0.53       300\n",
      "       horse       0.50      0.50      0.50       300\n",
      "        ship       0.60      0.60      0.60       300\n",
      "       truck       0.48      0.46      0.47       300\n",
      "\n",
      "    accuracy                           0.45      3000\n",
      "   macro avg       0.45      0.45      0.45      3000\n",
      "weighted avg       0.45      0.45      0.45      3000\n",
      "\n"
     ]
    }
   ],
   "source": [
    "\"\"\"결과 확인\"\"\"\n",
    "y_pred = []\n",
    "y_true = []\n",
    "for i, data in enumerate(test_dataset, 0):\n",
    "    # [inputs, labels]의 목록인 data로부터 입력을 받은 후;\n",
    "    inputs, labels = data\n",
    "    inputs = torch.tensor(inputs).float().unsqueeze(0).permute(0, 3, 1, 2).to(device)\n",
    "\n",
    "    # create pseudo label\n",
    "    outputs = student(inputs)\n",
    "    new_label = torch.softmax(outputs, -1)\n",
    "    y = int(torch.argmax(new_label, dim=1))\n",
    "    y_pred.append(y)\n",
    "    y_true.append(labels)\n",
    "\n",
    "print(classification_report(y_true, y_pred, target_names=CATEGORIES))"
   ]
  },
  {
   "attachments": {},
   "cell_type": "markdown",
   "id": "cd76a1e6",
   "metadata": {},
   "source": [
    "---"
   ]
  },
  {
   "attachments": {},
   "cell_type": "markdown",
   "id": "df0757cc",
   "metadata": {},
   "source": [
    "### Pseudo Labeling Methods : Noisy Student"
   ]
  },
  {
   "cell_type": "code",
   "execution_count": 20,
   "id": "019c8125",
   "metadata": {},
   "outputs": [],
   "source": [
    "\"\"\"Noisy student data 생성\"\"\"\n",
    "student_dataset = training_dataset + new_psuedo_dataset\n",
    "noisystudent_dataloader = data_util.DataLoader(student_dataset, batch_size=64, shuffle=True)\n",
    "\n",
    "\"\"\"Noisy student model\"\"\"\n",
    "class NoisyStudent(nn.Module):\n",
    "    def __init__(self):\n",
    "        super().__init__()\n",
    "        self.conv1 = nn.Conv2d(3, 6, 2)\n",
    "        self.pool = nn.MaxPool2d(2, 2)\n",
    "        self.conv2 = nn.Conv2d(6, 16, 2)\n",
    "        self.conv3 = nn.Conv2d(16, 32, 2)\n",
    "        self.fc1 = nn.Linear(288, 120)\n",
    "        self.fc2 = nn.Linear(120, 84)\n",
    "        self.fc3 = nn.Linear(84, 10)\n",
    "        self.dropout = nn.Dropout(p = 0.5)\n",
    "\n",
    "    def forward(self, x):\n",
    "        x = self.pool(F.relu(self.conv1(x)))\n",
    "        x = self.dropout(x)\n",
    "        x = self.pool(F.relu(self.conv2(x)))\n",
    "        x = self.dropout(x)\n",
    "        x = self.pool(F.relu(self.conv3(x)))\n",
    "        x = torch.flatten(x, 1) # 배치를 제외한 모든 차원을 평탄화(flatten)\n",
    "        x = F.relu(self.fc1(x))\n",
    "        x = F.relu(self.fc2(x))\n",
    "        x = self.fc3(x)\n",
    "        \n",
    "        return x\n"
   ]
  },
  {
   "cell_type": "code",
   "execution_count": 21,
   "id": "16d6a63f",
   "metadata": {},
   "outputs": [
    {
     "name": "stderr",
     "output_type": "stream",
     "text": [
      "  0%|          | 0/100 [00:00<?, ?it/s]c:\\Users\\RohSeungChan\\Anaconda3\\envs\\torch-gpu\\lib\\site-packages\\ipykernel_launcher.py:18: UserWarning: To copy construct from a tensor, it is recommended to use sourceTensor.clone().detach() or sourceTensor.clone().detach().requires_grad_(True), rather than torch.tensor(sourceTensor).\n",
      "100%|██████████| 100/100 [02:26<00:00,  1.47s/it]"
     ]
    },
    {
     "name": "stdout",
     "output_type": "stream",
     "text": [
      "Finished Training\n"
     ]
    },
    {
     "name": "stderr",
     "output_type": "stream",
     "text": [
      "\n"
     ]
    }
   ],
   "source": [
    "\"\"\"teacher model 학습\"\"\"\n",
    "#initialize teacher model\n",
    "student_model = NoisyStudent().to(device)\n",
    "# model parameter\n",
    "criterion = nn.CrossEntropyLoss()\n",
    "optimizer = optim.Adam(student_model.parameters(), lr=0.001)\n",
    "epoch = 100\n",
    "\n",
    "loss_history = []\n",
    "## train\n",
    "for epoch in tqdm(range(epoch)):   # 데이터셋을 수차례 반복합니다.\n",
    "    running_loss = 0.0\n",
    "    for i, data in enumerate(noisystudent_dataloader, 0):\n",
    "        # [inputs, labels]의 목록인 data로부터 입력을 받은 후;\n",
    "        inputs, labels = data\n",
    "        inputs = torch.tensor(inputs.permute(0,3,1,2)).float().to(device)\n",
    "        labels = labels.to(device)\n",
    "        # 변화도(Gradient) 매개변수를 0으로 만들고\n",
    "        optimizer.zero_grad()\n",
    "\n",
    "        # 순전파 + 역전파 + 최적화를 한 후\n",
    "        outputs = student_model(inputs)\n",
    "        loss = criterion(outputs, labels)\n",
    "        loss.backward()\n",
    "        optimizer.step()\n",
    "        # 통계를 출력합니다.\n",
    "        running_loss += loss.item()\n",
    "        # print('%s=> loss: %.3f' %(i, loss))\n",
    "        loss_history.append(loss.cpu().detach())\n",
    "\n",
    "print('Finished Training')"
   ]
  },
  {
   "cell_type": "code",
   "execution_count": 22,
   "id": "5f1a7d2e",
   "metadata": {},
   "outputs": [],
   "source": [
    "\"\"\"noisy student data 생성\"\"\"\n",
    "# load student data\n",
    "pseudo_student_dataset = []\n",
    "pseudo_student_dataset = create_training_data(1500, 2000, pseudo_student_dataset)\n",
    "pseudo_student_dataset = random.sample(pseudo_student_dataset, len(pseudo_student_dataset))\n",
    "\n",
    "\"\"\"Psuedo Labeling\"\"\"\n",
    "new_pseudo_student_dataset = []\n",
    "for i, data in enumerate(pseudo_student_dataset, 0):\n",
    "    # [inputs, labels]의 목록인 data로부터 입력을 받은 후;\n",
    "    inputs, labels = data\n",
    "    inputs = torch.tensor(inputs).float().unsqueeze(0).permute(0, 3, 1, 2).to(device)\n",
    "\n",
    "    # create pseudo label\n",
    "    outputs = teacher(inputs)\n",
    "    new_label = torch.softmax(outputs, -1)\n",
    "    y = int(torch.argmax(new_label, dim=1))\n",
    "    new_pseudo_student_dataset.append([np.array(inputs.squeeze(0).permute(1, 2, 0).cpu().detach().int()), y])\n",
    "\n",
    "# create psuedo data (append train data with pseudo data)\n",
    "temp_dataset = student_dataset + new_pseudo_student_dataset\n",
    "new_psuedo_student_dataloader = data_util.DataLoader(temp_dataset, batch_size=64, shuffle=True)"
   ]
  },
  {
   "cell_type": "code",
   "execution_count": 23,
   "id": "a20e3950",
   "metadata": {},
   "outputs": [
    {
     "name": "stderr",
     "output_type": "stream",
     "text": [
      "  0%|          | 0/99 [00:00<?, ?it/s]c:\\Users\\RohSeungChan\\Anaconda3\\envs\\torch-gpu\\lib\\site-packages\\ipykernel_launcher.py:11: UserWarning: To copy construct from a tensor, it is recommended to use sourceTensor.clone().detach() or sourceTensor.clone().detach().requires_grad_(True), rather than torch.tensor(sourceTensor).\n",
      "  # This is added back by InteractiveShellApp.init_path()\n",
      "100%|██████████| 99/99 [03:12<00:00,  1.94s/it]"
     ]
    },
    {
     "name": "stdout",
     "output_type": "stream",
     "text": [
      "Finished Training\n"
     ]
    },
    {
     "name": "stderr",
     "output_type": "stream",
     "text": [
      "\n"
     ]
    }
   ],
   "source": [
    "\"\"\"Student model 학습\"\"\"\n",
    "loss_history = []\n",
    "## train\n",
    "for epoch in tqdm(range(epoch)):   # 데이터셋을 수차례 반복합니다.\n",
    "    running_loss = 0.0\n",
    "    for i, data in enumerate(new_psuedo_student_dataloader, 0):\n",
    "        # [inputs, labels]의 목록인 data로부터 입력을 받은 후;\n",
    "        inputs, labels = data\n",
    "        inputs = torch.tensor(inputs.permute(0,3,1,2)).float().to(device)\n",
    "        labels = labels.to(device)\n",
    "        # 변화도(Gradient) 매개변수를 0으로 만들고\n",
    "        optimizer.zero_grad()\n",
    "\n",
    "        # 순전파 + 역전파 + 최적화를 한 후\n",
    "        outputs = student_model(inputs)\n",
    "        loss = criterion(outputs, labels)\n",
    "        loss.backward()\n",
    "        optimizer.step()\n",
    "        # 통계를 출력합니다.\n",
    "        running_loss += loss.item()\n",
    "        # print('%s=> loss: %.3f' %(i, loss))\n",
    "        loss_history.append(loss.cpu().detach())\n",
    "\n",
    "print('Finished Training')"
   ]
  },
  {
   "cell_type": "code",
   "execution_count": 24,
   "id": "589768d2",
   "metadata": {},
   "outputs": [
    {
     "name": "stdout",
     "output_type": "stream",
     "text": [
      "              precision    recall  f1-score   support\n",
      "\n",
      "    airplane       0.56      0.48      0.52       300\n",
      "  automobile       0.65      0.65      0.65       300\n",
      "        bird       0.41      0.23      0.30       300\n",
      "         cat       0.28      0.23      0.25       300\n",
      "        deer       0.44      0.43      0.44       300\n",
      "         dog       0.36      0.43      0.39       300\n",
      "        frog       0.47      0.73      0.57       300\n",
      "       horse       0.58      0.54      0.56       300\n",
      "        ship       0.61      0.63      0.62       300\n",
      "       truck       0.51      0.54      0.52       300\n",
      "\n",
      "    accuracy                           0.49      3000\n",
      "   macro avg       0.49      0.49      0.48      3000\n",
      "weighted avg       0.49      0.49      0.48      3000\n",
      "\n"
     ]
    }
   ],
   "source": [
    "\"\"\"Self-Training 확인\"\"\"\n",
    "y_pred = []\n",
    "y_true = []\n",
    "for i, data in enumerate(test_dataset, 0):\n",
    "    # [inputs, labels]의 목록인 data로부터 입력을 받은 후;\n",
    "    inputs, labels = data\n",
    "    inputs = torch.tensor(inputs).float().unsqueeze(0).permute(0, 3, 1, 2).to(device)\n",
    "\n",
    "    # create pseudo label\n",
    "    outputs = student_model(inputs)\n",
    "    new_label = torch.softmax(outputs, -1)\n",
    "    y = int(torch.argmax(new_label, dim=1))\n",
    "    y_pred.append(y)\n",
    "    y_true.append(labels)\n",
    "\n",
    "print(classification_report(y_true, y_pred, target_names=CATEGORIES))"
   ]
  }
 ],
 "metadata": {
  "kernelspec": {
   "display_name": "torch-gpu",
   "language": "python",
   "name": "torch-gpu"
  },
  "language_info": {
   "codemirror_mode": {
    "name": "ipython",
    "version": 3
   },
   "file_extension": ".py",
   "mimetype": "text/x-python",
   "name": "python",
   "nbconvert_exporter": "python",
   "pygments_lexer": "ipython3",
   "version": "3.7.11"
  }
 },
 "nbformat": 4,
 "nbformat_minor": 5
}
