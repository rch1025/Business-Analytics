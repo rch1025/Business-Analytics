{
 "cells": [
  {
   "cell_type": "code",
   "execution_count": 3,
   "id": "bd4e3dca",
   "metadata": {
    "scrolled": false
   },
   "outputs": [
    {
     "name": "stdout",
     "output_type": "stream",
     "text": [
      "Files already downloaded and verified\n",
      "Files already downloaded and verified\n"
     ]
    },
    {
     "name": "stderr",
     "output_type": "stream",
     "text": [
      "\r",
      "  0%|                                                                                        | 0/10000 [00:00<?, ?it/s]"
     ]
    },
    {
     "name": "stdout",
     "output_type": "stream",
     "text": [
      "\n",
      "Iteration: 0\tCrossEntropyLoss 2.2902 (2.2902)\tVATLoss 0.0000 (0.0000)\tPrec@1 9.375 (9.375)\n"
     ]
    },
    {
     "name": "stderr",
     "output_type": "stream",
     "text": [
      "  1%|▊                                                                              | 98/10000 [00:04<04:42, 35.04it/s]"
     ]
    },
    {
     "name": "stdout",
     "output_type": "stream",
     "text": [
      "\n",
      "Iteration: 100\tCrossEntropyLoss 2.1281 (2.1281)\tVATLoss 0.0045 (0.0045)\tPrec@1 18.750 (18.750)\n"
     ]
    },
    {
     "name": "stderr",
     "output_type": "stream",
     "text": [
      "  2%|█▌                                                                            | 200/10000 [00:08<07:47, 20.96it/s]"
     ]
    },
    {
     "name": "stdout",
     "output_type": "stream",
     "text": [
      "\n",
      "Iteration: 200\tCrossEntropyLoss 2.0587 (2.0587)\tVATLoss 0.0145 (0.0145)\tPrec@1 12.500 (12.500)\n"
     ]
    },
    {
     "name": "stderr",
     "output_type": "stream",
     "text": [
      "  3%|██▎                                                                           | 300/10000 [00:11<04:51, 33.26it/s]"
     ]
    },
    {
     "name": "stdout",
     "output_type": "stream",
     "text": [
      "\n",
      "Iteration: 300\tCrossEntropyLoss 1.7425 (1.7425)\tVATLoss 0.0243 (0.0243)\tPrec@1 40.625 (40.625)\n"
     ]
    },
    {
     "name": "stderr",
     "output_type": "stream",
     "text": [
      "  4%|███                                                                           | 397/10000 [00:14<04:29, 35.58it/s]"
     ]
    },
    {
     "name": "stdout",
     "output_type": "stream",
     "text": [
      "\n",
      "Iteration: 400\tCrossEntropyLoss 1.8475 (1.8475)\tVATLoss 0.0238 (0.0238)\tPrec@1 25.000 (25.000)\n"
     ]
    },
    {
     "name": "stderr",
     "output_type": "stream",
     "text": [
      "  5%|███▉                                                                          | 498/10000 [00:17<04:09, 38.02it/s]"
     ]
    },
    {
     "name": "stdout",
     "output_type": "stream",
     "text": [
      "\n",
      "Iteration: 500\tCrossEntropyLoss 1.6524 (1.6524)\tVATLoss 0.0298 (0.0298)\tPrec@1 28.125 (28.125)\n"
     ]
    },
    {
     "name": "stderr",
     "output_type": "stream",
     "text": [
      "  6%|████▋                                                                         | 597/10000 [00:20<04:15, 36.87it/s]"
     ]
    },
    {
     "name": "stdout",
     "output_type": "stream",
     "text": [
      "\n",
      "Iteration: 600\tCrossEntropyLoss 1.5917 (1.5917)\tVATLoss 0.0377 (0.0377)\tPrec@1 31.250 (31.250)\n"
     ]
    },
    {
     "name": "stderr",
     "output_type": "stream",
     "text": [
      "  7%|█████▍                                                                        | 698/10000 [00:22<04:40, 33.11it/s]"
     ]
    },
    {
     "name": "stdout",
     "output_type": "stream",
     "text": [
      "\n",
      "Iteration: 700\tCrossEntropyLoss 1.5154 (1.5154)\tVATLoss 0.0288 (0.0288)\tPrec@1 43.750 (43.750)\n"
     ]
    },
    {
     "name": "stderr",
     "output_type": "stream",
     "text": [
      "  8%|██████▏                                                                       | 800/10000 [00:25<04:17, 35.80it/s]"
     ]
    },
    {
     "name": "stdout",
     "output_type": "stream",
     "text": [
      "\n",
      "Iteration: 800\tCrossEntropyLoss 1.6032 (1.6032)\tVATLoss 0.0416 (0.0416)\tPrec@1 50.000 (50.000)\n"
     ]
    },
    {
     "name": "stderr",
     "output_type": "stream",
     "text": [
      "  9%|██████▉                                                                       | 897/10000 [00:28<04:12, 36.10it/s]"
     ]
    },
    {
     "name": "stdout",
     "output_type": "stream",
     "text": [
      "\n",
      "Iteration: 900\tCrossEntropyLoss 1.2826 (1.2826)\tVATLoss 0.0340 (0.0340)\tPrec@1 43.750 (43.750)\n"
     ]
    },
    {
     "name": "stderr",
     "output_type": "stream",
     "text": [
      " 10%|███████▋                                                                     | 1000/10000 [00:31<04:05, 36.60it/s]"
     ]
    },
    {
     "name": "stdout",
     "output_type": "stream",
     "text": [
      "\n",
      "Iteration: 1000\tCrossEntropyLoss 1.2127 (1.2127)\tVATLoss 0.0603 (0.0603)\tPrec@1 50.000 (50.000)\n"
     ]
    },
    {
     "name": "stderr",
     "output_type": "stream",
     "text": [
      " 11%|████████▍                                                                    | 1097/10000 [00:33<03:51, 38.39it/s]"
     ]
    },
    {
     "name": "stdout",
     "output_type": "stream",
     "text": [
      "\n",
      "Iteration: 1100\tCrossEntropyLoss 1.5384 (1.5384)\tVATLoss 0.0466 (0.0466)\tPrec@1 40.625 (40.625)\n"
     ]
    },
    {
     "name": "stderr",
     "output_type": "stream",
     "text": [
      " 12%|█████████▏                                                                   | 1198/10000 [00:36<03:48, 38.59it/s]"
     ]
    },
    {
     "name": "stdout",
     "output_type": "stream",
     "text": [
      "\n",
      "Iteration: 1200\tCrossEntropyLoss 1.5383 (1.5383)\tVATLoss 0.0449 (0.0449)\tPrec@1 46.875 (46.875)\n"
     ]
    },
    {
     "name": "stderr",
     "output_type": "stream",
     "text": [
      " 13%|██████████                                                                   | 1299/10000 [00:39<03:48, 38.04it/s]"
     ]
    },
    {
     "name": "stdout",
     "output_type": "stream",
     "text": [
      "\n",
      "Iteration: 1300\tCrossEntropyLoss 1.4941 (1.4941)\tVATLoss 0.0555 (0.0555)\tPrec@1 46.875 (46.875)\n"
     ]
    },
    {
     "name": "stderr",
     "output_type": "stream",
     "text": [
      " 14%|██████████▊                                                                  | 1399/10000 [00:41<03:41, 38.89it/s]"
     ]
    },
    {
     "name": "stdout",
     "output_type": "stream",
     "text": [
      "\n",
      "Iteration: 1400\tCrossEntropyLoss 1.4473 (1.4473)\tVATLoss 0.0830 (0.0830)\tPrec@1 43.750 (43.750)\n"
     ]
    },
    {
     "name": "stderr",
     "output_type": "stream",
     "text": [
      " 15%|███████████▌                                                                 | 1497/10000 [00:44<03:33, 39.82it/s]"
     ]
    },
    {
     "name": "stdout",
     "output_type": "stream",
     "text": [
      "\n",
      "Iteration: 1500\tCrossEntropyLoss 1.4225 (1.4225)\tVATLoss 0.0634 (0.0634)\tPrec@1 53.125 (53.125)\n"
     ]
    },
    {
     "name": "stderr",
     "output_type": "stream",
     "text": [
      " 16%|████████████▎                                                                | 1597/10000 [00:47<03:38, 38.38it/s]"
     ]
    },
    {
     "name": "stdout",
     "output_type": "stream",
     "text": [
      "\n",
      "Iteration: 1600\tCrossEntropyLoss 1.1748 (1.1748)\tVATLoss 0.0620 (0.0620)\tPrec@1 62.500 (62.500)\n"
     ]
    },
    {
     "name": "stderr",
     "output_type": "stream",
     "text": [
      " 17%|█████████████                                                                | 1698/10000 [00:49<03:35, 38.55it/s]"
     ]
    },
    {
     "name": "stdout",
     "output_type": "stream",
     "text": [
      "\n",
      "Iteration: 1700\tCrossEntropyLoss 1.0975 (1.0975)\tVATLoss 0.0664 (0.0664)\tPrec@1 65.625 (65.625)\n"
     ]
    },
    {
     "name": "stderr",
     "output_type": "stream",
     "text": [
      " 18%|█████████████▊                                                               | 1800/10000 [00:52<03:44, 36.50it/s]"
     ]
    },
    {
     "name": "stdout",
     "output_type": "stream",
     "text": [
      "\n",
      "Iteration: 1800\tCrossEntropyLoss 1.0727 (1.0727)\tVATLoss 0.0723 (0.0723)\tPrec@1 62.500 (62.500)\n"
     ]
    },
    {
     "name": "stderr",
     "output_type": "stream",
     "text": [
      " 19%|██████████████▌                                                              | 1899/10000 [00:56<04:15, 31.71it/s]"
     ]
    },
    {
     "name": "stdout",
     "output_type": "stream",
     "text": [
      "\n",
      "Iteration: 1900\tCrossEntropyLoss 1.3063 (1.3063)\tVATLoss 0.0615 (0.0615)\tPrec@1 56.250 (56.250)\n"
     ]
    },
    {
     "name": "stderr",
     "output_type": "stream",
     "text": [
      " 20%|███████████████▎                                                             | 1996/10000 [00:58<03:50, 34.77it/s]"
     ]
    },
    {
     "name": "stdout",
     "output_type": "stream",
     "text": [
      "\n",
      "Iteration: 2000\tCrossEntropyLoss 1.1679 (1.1679)\tVATLoss 0.0810 (0.0810)\tPrec@1 59.375 (59.375)\n"
     ]
    },
    {
     "name": "stderr",
     "output_type": "stream",
     "text": [
      " 21%|████████████████▏                                                            | 2097/10000 [01:01<03:18, 39.88it/s]"
     ]
    },
    {
     "name": "stdout",
     "output_type": "stream",
     "text": [
      "\n",
      "Iteration: 2100\tCrossEntropyLoss 1.2020 (1.2020)\tVATLoss 0.0976 (0.0976)\tPrec@1 62.500 (62.500)\n"
     ]
    },
    {
     "name": "stderr",
     "output_type": "stream",
     "text": [
      " 22%|████████████████▉                                                            | 2198/10000 [01:04<03:30, 37.13it/s]"
     ]
    },
    {
     "name": "stdout",
     "output_type": "stream",
     "text": [
      "\n",
      "Iteration: 2200\tCrossEntropyLoss 0.9035 (0.9035)\tVATLoss 0.1033 (0.1033)\tPrec@1 71.875 (71.875)\n"
     ]
    },
    {
     "name": "stderr",
     "output_type": "stream",
     "text": [
      " 23%|█████████████████▋                                                           | 2299/10000 [01:06<03:19, 38.63it/s]"
     ]
    },
    {
     "name": "stdout",
     "output_type": "stream",
     "text": [
      "\n",
      "Iteration: 2300\tCrossEntropyLoss 0.8647 (0.8647)\tVATLoss 0.1011 (0.1011)\tPrec@1 71.875 (71.875)\n"
     ]
    },
    {
     "name": "stderr",
     "output_type": "stream",
     "text": [
      " 24%|██████████████████▍                                                          | 2397/10000 [01:09<03:45, 33.75it/s]"
     ]
    },
    {
     "name": "stdout",
     "output_type": "stream",
     "text": [
      "\n",
      "Iteration: 2400\tCrossEntropyLoss 1.0670 (1.0670)\tVATLoss 0.1064 (0.1064)\tPrec@1 62.500 (62.500)\n"
     ]
    },
    {
     "name": "stderr",
     "output_type": "stream",
     "text": [
      " 25%|███████████████████▏                                                         | 2498/10000 [01:13<03:49, 32.75it/s]"
     ]
    },
    {
     "name": "stdout",
     "output_type": "stream",
     "text": [
      "\n",
      "Iteration: 2500\tCrossEntropyLoss 0.8293 (0.8293)\tVATLoss 0.1575 (0.1575)\tPrec@1 78.125 (78.125)\n"
     ]
    },
    {
     "name": "stderr",
     "output_type": "stream",
     "text": [
      " 26%|████████████████████                                                         | 2598/10000 [01:15<03:36, 34.21it/s]"
     ]
    },
    {
     "name": "stdout",
     "output_type": "stream",
     "text": [
      "\n",
      "Iteration: 2600\tCrossEntropyLoss 0.9421 (0.9421)\tVATLoss 0.1050 (0.1050)\tPrec@1 75.000 (75.000)\n"
     ]
    },
    {
     "name": "stderr",
     "output_type": "stream",
     "text": [
      " 27%|████████████████████▊                                                        | 2700/10000 [01:18<03:18, 36.79it/s]"
     ]
    },
    {
     "name": "stdout",
     "output_type": "stream",
     "text": [
      "\n",
      "Iteration: 2700\tCrossEntropyLoss 1.2068 (1.2068)\tVATLoss 0.1185 (0.1185)\tPrec@1 59.375 (59.375)\n"
     ]
    },
    {
     "name": "stderr",
     "output_type": "stream",
     "text": [
      " 28%|█████████████████████▌                                                       | 2797/10000 [01:21<03:09, 38.01it/s]"
     ]
    },
    {
     "name": "stdout",
     "output_type": "stream",
     "text": [
      "\n",
      "Iteration: 2800\tCrossEntropyLoss 0.8697 (0.8697)\tVATLoss 0.1356 (0.1356)\tPrec@1 68.750 (68.750)\n"
     ]
    },
    {
     "name": "stderr",
     "output_type": "stream",
     "text": [
      " 29%|██████████████████████▎                                                      | 2897/10000 [01:23<02:59, 39.61it/s]"
     ]
    },
    {
     "name": "stdout",
     "output_type": "stream",
     "text": [
      "\n",
      "Iteration: 2900\tCrossEntropyLoss 1.0614 (1.0614)\tVATLoss 0.1060 (0.1060)\tPrec@1 56.250 (56.250)\n"
     ]
    },
    {
     "name": "stderr",
     "output_type": "stream",
     "text": [
      " 30%|███████████████████████                                                      | 2999/10000 [01:26<03:00, 38.82it/s]"
     ]
    },
    {
     "name": "stdout",
     "output_type": "stream",
     "text": [
      "\n",
      "Iteration: 3000\tCrossEntropyLoss 0.6607 (0.6607)\tVATLoss 0.1446 (0.1446)\tPrec@1 87.500 (87.500)\n"
     ]
    },
    {
     "name": "stderr",
     "output_type": "stream",
     "text": [
      " 31%|███████████████████████▊                                                     | 3098/10000 [01:28<02:55, 39.25it/s]"
     ]
    },
    {
     "name": "stdout",
     "output_type": "stream",
     "text": [
      "\n",
      "Iteration: 3100\tCrossEntropyLoss 0.7423 (0.7423)\tVATLoss 0.1664 (0.1664)\tPrec@1 71.875 (71.875)\n"
     ]
    },
    {
     "name": "stderr",
     "output_type": "stream",
     "text": [
      " 32%|████████████████████████▋                                                    | 3200/10000 [01:31<02:55, 38.66it/s]"
     ]
    },
    {
     "name": "stdout",
     "output_type": "stream",
     "text": [
      "\n",
      "Iteration: 3200\tCrossEntropyLoss 0.5790 (0.5790)\tVATLoss 0.1410 (0.1410)\tPrec@1 75.000 (75.000)\n"
     ]
    },
    {
     "name": "stderr",
     "output_type": "stream",
     "text": [
      " 33%|█████████████████████████▍                                                   | 3298/10000 [01:34<02:57, 37.70it/s]"
     ]
    },
    {
     "name": "stdout",
     "output_type": "stream",
     "text": [
      "\n",
      "Iteration: 3300\tCrossEntropyLoss 0.7317 (0.7317)\tVATLoss 0.1440 (0.1440)\tPrec@1 71.875 (71.875)\n"
     ]
    },
    {
     "name": "stderr",
     "output_type": "stream",
     "text": [
      " 34%|██████████████████████████▏                                                  | 3399/10000 [01:36<02:52, 38.18it/s]"
     ]
    },
    {
     "name": "stdout",
     "output_type": "stream",
     "text": [
      "\n",
      "Iteration: 3400\tCrossEntropyLoss 0.6254 (0.6254)\tVATLoss 0.2128 (0.2128)\tPrec@1 84.375 (84.375)\n"
     ]
    },
    {
     "name": "stderr",
     "output_type": "stream",
     "text": [
      " 35%|██████████████████████████▉                                                  | 3500/10000 [01:40<04:34, 23.65it/s]"
     ]
    },
    {
     "name": "stdout",
     "output_type": "stream",
     "text": [
      "\n",
      "Iteration: 3500\tCrossEntropyLoss 0.6470 (0.6470)\tVATLoss 0.1551 (0.1551)\tPrec@1 81.250 (81.250)\n"
     ]
    },
    {
     "name": "stderr",
     "output_type": "stream",
     "text": [
      " 36%|███████████████████████████▋                                                 | 3599/10000 [01:44<04:46, 22.34it/s]"
     ]
    },
    {
     "name": "stdout",
     "output_type": "stream",
     "text": [
      "\n",
      "Iteration: 3600\tCrossEntropyLoss 0.5915 (0.5915)\tVATLoss 0.1387 (0.1387)\tPrec@1 87.500 (87.500)\n"
     ]
    },
    {
     "name": "stderr",
     "output_type": "stream",
     "text": [
      " 37%|████████████████████████████▍                                                | 3698/10000 [01:48<04:33, 23.02it/s]"
     ]
    },
    {
     "name": "stdout",
     "output_type": "stream",
     "text": [
      "\n",
      "Iteration: 3700\tCrossEntropyLoss 0.4873 (0.4873)\tVATLoss 0.1629 (0.1629)\tPrec@1 78.125 (78.125)\n"
     ]
    },
    {
     "name": "stderr",
     "output_type": "stream",
     "text": [
      " 38%|█████████████████████████████▎                                               | 3800/10000 [01:52<04:19, 23.89it/s]"
     ]
    },
    {
     "name": "stdout",
     "output_type": "stream",
     "text": [
      "\n",
      "Iteration: 3800\tCrossEntropyLoss 0.6374 (0.6374)\tVATLoss 0.1801 (0.1801)\tPrec@1 81.250 (81.250)\n"
     ]
    },
    {
     "name": "stderr",
     "output_type": "stream",
     "text": [
      " 39%|██████████████████████████████                                               | 3899/10000 [01:57<04:08, 24.56it/s]"
     ]
    },
    {
     "name": "stdout",
     "output_type": "stream",
     "text": [
      "\n",
      "Iteration: 3900\tCrossEntropyLoss 0.8512 (0.8512)\tVATLoss 0.1703 (0.1703)\tPrec@1 68.750 (68.750)\n"
     ]
    },
    {
     "name": "stderr",
     "output_type": "stream",
     "text": [
      " 40%|██████████████████████████████▊                                              | 3998/10000 [02:01<03:59, 25.01it/s]"
     ]
    },
    {
     "name": "stdout",
     "output_type": "stream",
     "text": [
      "\n",
      "Iteration: 4000\tCrossEntropyLoss 0.5741 (0.5741)\tVATLoss 0.1648 (0.1648)\tPrec@1 87.500 (87.500)\n"
     ]
    },
    {
     "name": "stderr",
     "output_type": "stream",
     "text": [
      " 41%|███████████████████████████████▌                                             | 4100/10000 [02:05<04:09, 23.63it/s]"
     ]
    },
    {
     "name": "stdout",
     "output_type": "stream",
     "text": [
      "\n",
      "Iteration: 4100\tCrossEntropyLoss 0.6654 (0.6654)\tVATLoss 0.1500 (0.1500)\tPrec@1 71.875 (71.875)\n"
     ]
    },
    {
     "name": "stderr",
     "output_type": "stream",
     "text": [
      " 42%|████████████████████████████████▎                                            | 4197/10000 [02:08<02:42, 35.72it/s]"
     ]
    },
    {
     "name": "stdout",
     "output_type": "stream",
     "text": [
      "\n",
      "Iteration: 4200\tCrossEntropyLoss 0.6010 (0.6010)\tVATLoss 0.2124 (0.2124)\tPrec@1 81.250 (81.250)\n"
     ]
    },
    {
     "name": "stderr",
     "output_type": "stream",
     "text": [
      " 43%|█████████████████████████████████                                            | 4300/10000 [02:11<02:30, 37.83it/s]"
     ]
    },
    {
     "name": "stdout",
     "output_type": "stream",
     "text": [
      "\n",
      "Iteration: 4300\tCrossEntropyLoss 0.4878 (0.4878)\tVATLoss 0.2110 (0.2110)\tPrec@1 75.000 (75.000)\n"
     ]
    },
    {
     "name": "stderr",
     "output_type": "stream",
     "text": [
      " 44%|█████████████████████████████████▊                                           | 4399/10000 [02:13<02:28, 37.70it/s]"
     ]
    },
    {
     "name": "stdout",
     "output_type": "stream",
     "text": [
      "\n",
      "Iteration: 4400\tCrossEntropyLoss 0.5042 (0.5042)\tVATLoss 0.1755 (0.1755)\tPrec@1 90.625 (90.625)\n"
     ]
    },
    {
     "name": "stderr",
     "output_type": "stream",
     "text": [
      " 45%|██████████████████████████████████▋                                          | 4500/10000 [02:16<02:58, 30.82it/s]"
     ]
    },
    {
     "name": "stdout",
     "output_type": "stream",
     "text": [
      "\n",
      "Iteration: 4500\tCrossEntropyLoss 0.3294 (0.3294)\tVATLoss 0.1966 (0.1966)\tPrec@1 93.750 (93.750)\n"
     ]
    },
    {
     "name": "stderr",
     "output_type": "stream",
     "text": [
      " 46%|███████████████████████████████████▍                                         | 4597/10000 [02:19<02:35, 34.82it/s]"
     ]
    },
    {
     "name": "stdout",
     "output_type": "stream",
     "text": [
      "\n",
      "Iteration: 4600\tCrossEntropyLoss 0.3423 (0.3423)\tVATLoss 0.1726 (0.1726)\tPrec@1 93.750 (93.750)\n"
     ]
    },
    {
     "name": "stderr",
     "output_type": "stream",
     "text": [
      " 47%|████████████████████████████████████▏                                        | 4697/10000 [02:22<02:15, 39.28it/s]"
     ]
    },
    {
     "name": "stdout",
     "output_type": "stream",
     "text": [
      "\n",
      "Iteration: 4700\tCrossEntropyLoss 0.3359 (0.3359)\tVATLoss 0.1632 (0.1632)\tPrec@1 90.625 (90.625)\n"
     ]
    },
    {
     "name": "stderr",
     "output_type": "stream",
     "text": [
      " 48%|████████████████████████████████████▉                                        | 4799/10000 [02:25<03:14, 26.74it/s]"
     ]
    },
    {
     "name": "stdout",
     "output_type": "stream",
     "text": [
      "\n",
      "Iteration: 4800\tCrossEntropyLoss 0.6226 (0.6226)\tVATLoss 0.1726 (0.1726)\tPrec@1 81.250 (81.250)\n"
     ]
    },
    {
     "name": "stderr",
     "output_type": "stream",
     "text": [
      " 49%|█████████████████████████████████████▋                                       | 4898/10000 [02:29<03:31, 24.17it/s]"
     ]
    },
    {
     "name": "stdout",
     "output_type": "stream",
     "text": [
      "\n",
      "Iteration: 4900\tCrossEntropyLoss 0.2871 (0.2871)\tVATLoss 0.2184 (0.2184)\tPrec@1 93.750 (93.750)\n"
     ]
    },
    {
     "name": "stderr",
     "output_type": "stream",
     "text": [
      " 50%|██████████████████████████████████████▌                                      | 5000/10000 [02:33<03:22, 24.74it/s]"
     ]
    },
    {
     "name": "stdout",
     "output_type": "stream",
     "text": [
      "\n",
      "Iteration: 5000\tCrossEntropyLoss 0.4462 (0.4462)\tVATLoss 0.2314 (0.2314)\tPrec@1 90.625 (90.625)\n"
     ]
    },
    {
     "name": "stderr",
     "output_type": "stream",
     "text": [
      " 51%|███████████████████████████████████████▎                                     | 5099/10000 [02:38<03:37, 22.56it/s]"
     ]
    },
    {
     "name": "stdout",
     "output_type": "stream",
     "text": [
      "\n",
      "Iteration: 5100\tCrossEntropyLoss 0.7181 (0.7181)\tVATLoss 0.2062 (0.2062)\tPrec@1 81.250 (81.250)\n"
     ]
    },
    {
     "name": "stderr",
     "output_type": "stream",
     "text": [
      " 52%|████████████████████████████████████████                                     | 5198/10000 [02:41<02:08, 37.45it/s]"
     ]
    },
    {
     "name": "stdout",
     "output_type": "stream",
     "text": [
      "\n",
      "Iteration: 5200\tCrossEntropyLoss 0.3497 (0.3497)\tVATLoss 0.1673 (0.1673)\tPrec@1 93.750 (93.750)\n"
     ]
    },
    {
     "name": "stderr",
     "output_type": "stream",
     "text": [
      " 53%|████████████████████████████████████████▊                                    | 5300/10000 [02:43<02:04, 37.60it/s]"
     ]
    },
    {
     "name": "stdout",
     "output_type": "stream",
     "text": [
      "\n",
      "Iteration: 5300\tCrossEntropyLoss 0.4721 (0.4721)\tVATLoss 0.2132 (0.2132)\tPrec@1 81.250 (81.250)\n"
     ]
    },
    {
     "name": "stderr",
     "output_type": "stream",
     "text": [
      " 54%|█████████████████████████████████████████▌                                   | 5397/10000 [02:46<02:16, 33.77it/s]"
     ]
    },
    {
     "name": "stdout",
     "output_type": "stream",
     "text": [
      "\n",
      "Iteration: 5400\tCrossEntropyLoss 0.4039 (0.4039)\tVATLoss 0.2229 (0.2229)\tPrec@1 87.500 (87.500)\n"
     ]
    },
    {
     "name": "stderr",
     "output_type": "stream",
     "text": [
      " 55%|██████████████████████████████████████████▎                                  | 5499/10000 [02:49<01:59, 37.61it/s]"
     ]
    },
    {
     "name": "stdout",
     "output_type": "stream",
     "text": [
      "\n",
      "Iteration: 5500\tCrossEntropyLoss 0.4672 (0.4672)\tVATLoss 0.2134 (0.2134)\tPrec@1 84.375 (84.375)\n"
     ]
    },
    {
     "name": "stderr",
     "output_type": "stream",
     "text": [
      " 56%|███████████████████████████████████████████                                  | 5600/10000 [02:52<03:00, 24.38it/s]"
     ]
    },
    {
     "name": "stdout",
     "output_type": "stream",
     "text": [
      "\n",
      "Iteration: 5600\tCrossEntropyLoss 0.3920 (0.3920)\tVATLoss 0.2604 (0.2604)\tPrec@1 84.375 (84.375)\n"
     ]
    },
    {
     "name": "stderr",
     "output_type": "stream",
     "text": [
      " 57%|███████████████████████████████████████████▊                                 | 5696/10000 [02:55<01:57, 36.50it/s]"
     ]
    },
    {
     "name": "stdout",
     "output_type": "stream",
     "text": [
      "\n",
      "Iteration: 5700\tCrossEntropyLoss 0.2464 (0.2464)\tVATLoss 0.3543 (0.3543)\tPrec@1 87.500 (87.500)\n"
     ]
    },
    {
     "name": "stderr",
     "output_type": "stream",
     "text": [
      " 58%|████████████████████████████████████████████▋                                | 5797/10000 [02:58<01:51, 37.58it/s]"
     ]
    },
    {
     "name": "stdout",
     "output_type": "stream",
     "text": [
      "\n",
      "Iteration: 5800\tCrossEntropyLoss 0.4018 (0.4018)\tVATLoss 0.2456 (0.2456)\tPrec@1 90.625 (90.625)\n"
     ]
    },
    {
     "name": "stderr",
     "output_type": "stream",
     "text": [
      " 59%|█████████████████████████████████████████████▍                               | 5898/10000 [03:00<01:48, 37.90it/s]"
     ]
    },
    {
     "name": "stdout",
     "output_type": "stream",
     "text": [
      "\n",
      "Iteration: 5900\tCrossEntropyLoss 0.3759 (0.3759)\tVATLoss 0.2714 (0.2714)\tPrec@1 96.875 (96.875)\n"
     ]
    },
    {
     "name": "stderr",
     "output_type": "stream",
     "text": [
      " 60%|██████████████████████████████████████████████▏                              | 5998/10000 [03:03<01:43, 38.52it/s]"
     ]
    },
    {
     "name": "stdout",
     "output_type": "stream",
     "text": [
      "\n",
      "Iteration: 6000\tCrossEntropyLoss 0.4480 (0.4480)\tVATLoss 0.2118 (0.2118)\tPrec@1 84.375 (84.375)\n"
     ]
    },
    {
     "name": "stderr",
     "output_type": "stream",
     "text": [
      " 61%|██████████████████████████████████████████████▉                              | 6097/10000 [03:06<01:40, 38.86it/s]"
     ]
    },
    {
     "name": "stdout",
     "output_type": "stream",
     "text": [
      "\n",
      "Iteration: 6100\tCrossEntropyLoss 0.3189 (0.3189)\tVATLoss 0.2404 (0.2404)\tPrec@1 93.750 (93.750)\n"
     ]
    },
    {
     "name": "stderr",
     "output_type": "stream",
     "text": [
      " 62%|███████████████████████████████████████████████▋                             | 6200/10000 [03:08<01:37, 39.16it/s]"
     ]
    },
    {
     "name": "stdout",
     "output_type": "stream",
     "text": [
      "\n",
      "Iteration: 6200\tCrossEntropyLoss 0.3778 (0.3778)\tVATLoss 0.2525 (0.2525)\tPrec@1 87.500 (87.500)\n"
     ]
    },
    {
     "name": "stderr",
     "output_type": "stream",
     "text": [
      " 63%|████████████████████████████████████████████████▍                            | 6298/10000 [03:11<02:37, 23.57it/s]"
     ]
    },
    {
     "name": "stdout",
     "output_type": "stream",
     "text": [
      "\n",
      "Iteration: 6300\tCrossEntropyLoss 0.2112 (0.2112)\tVATLoss 0.2502 (0.2502)\tPrec@1 96.875 (96.875)\n"
     ]
    },
    {
     "name": "stderr",
     "output_type": "stream",
     "text": [
      " 64%|█████████████████████████████████████████████████▎                           | 6400/10000 [03:16<02:36, 23.01it/s]"
     ]
    },
    {
     "name": "stdout",
     "output_type": "stream",
     "text": [
      "\n",
      "Iteration: 6400\tCrossEntropyLoss 0.3368 (0.3368)\tVATLoss 0.2186 (0.2186)\tPrec@1 90.625 (90.625)\n"
     ]
    },
    {
     "name": "stderr",
     "output_type": "stream",
     "text": [
      " 65%|██████████████████████████████████████████████████                           | 6499/10000 [03:20<02:24, 24.31it/s]"
     ]
    },
    {
     "name": "stdout",
     "output_type": "stream",
     "text": [
      "\n",
      "Iteration: 6500\tCrossEntropyLoss 0.1969 (0.1969)\tVATLoss 0.2124 (0.2124)\tPrec@1 96.875 (96.875)\n"
     ]
    },
    {
     "name": "stderr",
     "output_type": "stream",
     "text": [
      " 66%|██████████████████████████████████████████████████▊                          | 6598/10000 [03:24<02:17, 24.72it/s]"
     ]
    },
    {
     "name": "stdout",
     "output_type": "stream",
     "text": [
      "\n",
      "Iteration: 6600\tCrossEntropyLoss 0.3829 (0.3829)\tVATLoss 0.2796 (0.2796)\tPrec@1 87.500 (87.500)\n"
     ]
    },
    {
     "name": "stderr",
     "output_type": "stream",
     "text": [
      " 67%|███████████████████████████████████████████████████▌                         | 6698/10000 [03:27<01:25, 38.78it/s]"
     ]
    },
    {
     "name": "stdout",
     "output_type": "stream",
     "text": [
      "\n",
      "Iteration: 6700\tCrossEntropyLoss 0.3633 (0.3633)\tVATLoss 0.2964 (0.2964)\tPrec@1 90.625 (90.625)\n"
     ]
    },
    {
     "name": "stderr",
     "output_type": "stream",
     "text": [
      " 68%|████████████████████████████████████████████████████▎                        | 6796/10000 [03:30<01:23, 38.33it/s]"
     ]
    },
    {
     "name": "stdout",
     "output_type": "stream",
     "text": [
      "\n",
      "Iteration: 6800\tCrossEntropyLoss 0.3882 (0.3882)\tVATLoss 0.2521 (0.2521)\tPrec@1 90.625 (90.625)\n"
     ]
    },
    {
     "name": "stderr",
     "output_type": "stream",
     "text": [
      " 69%|█████████████████████████████████████████████████████                        | 6899/10000 [03:32<01:20, 38.34it/s]"
     ]
    },
    {
     "name": "stdout",
     "output_type": "stream",
     "text": [
      "\n",
      "Iteration: 6900\tCrossEntropyLoss 0.5283 (0.5283)\tVATLoss 0.2659 (0.2659)\tPrec@1 75.000 (75.000)\n"
     ]
    },
    {
     "name": "stderr",
     "output_type": "stream",
     "text": [
      " 70%|█████████████████████████████████████████████████████▉                       | 6997/10000 [03:35<01:16, 39.44it/s]"
     ]
    },
    {
     "name": "stdout",
     "output_type": "stream",
     "text": [
      "\n",
      "Iteration: 7000\tCrossEntropyLoss 0.3953 (0.3953)\tVATLoss 0.2779 (0.2779)\tPrec@1 87.500 (87.500)\n"
     ]
    },
    {
     "name": "stderr",
     "output_type": "stream",
     "text": [
      " 71%|██████████████████████████████████████████████████████▋                      | 7097/10000 [03:38<01:15, 38.60it/s]"
     ]
    },
    {
     "name": "stdout",
     "output_type": "stream",
     "text": [
      "\n",
      "Iteration: 7100\tCrossEntropyLoss 0.4070 (0.4070)\tVATLoss 0.2827 (0.2827)\tPrec@1 90.625 (90.625)\n"
     ]
    },
    {
     "name": "stderr",
     "output_type": "stream",
     "text": [
      " 72%|███████████████████████████████████████████████████████▍                     | 7197/10000 [03:40<01:11, 39.38it/s]"
     ]
    },
    {
     "name": "stdout",
     "output_type": "stream",
     "text": [
      "\n",
      "Iteration: 7200\tCrossEntropyLoss 0.3808 (0.3808)\tVATLoss 0.2369 (0.2369)\tPrec@1 84.375 (84.375)\n"
     ]
    },
    {
     "name": "stderr",
     "output_type": "stream",
     "text": [
      " 73%|████████████████████████████████████████████████████████▏                    | 7300/10000 [03:43<01:09, 38.82it/s]"
     ]
    },
    {
     "name": "stdout",
     "output_type": "stream",
     "text": [
      "\n",
      "Iteration: 7300\tCrossEntropyLoss 0.1034 (0.1034)\tVATLoss 0.2212 (0.2212)\tPrec@1 100.000 (100.000)\n"
     ]
    },
    {
     "name": "stderr",
     "output_type": "stream",
     "text": [
      " 74%|████████████████████████████████████████████████████████▉                    | 7399/10000 [03:45<01:10, 36.67it/s]"
     ]
    },
    {
     "name": "stdout",
     "output_type": "stream",
     "text": [
      "\n",
      "Iteration: 7400\tCrossEntropyLoss 0.3506 (0.3506)\tVATLoss 0.2841 (0.2841)\tPrec@1 90.625 (90.625)\n"
     ]
    },
    {
     "name": "stderr",
     "output_type": "stream",
     "text": [
      " 75%|█████████████████████████████████████████████████████████▋                   | 7498/10000 [03:48<01:02, 39.73it/s]"
     ]
    },
    {
     "name": "stdout",
     "output_type": "stream",
     "text": [
      "\n",
      "Iteration: 7500\tCrossEntropyLoss 0.2152 (0.2152)\tVATLoss 0.3271 (0.3271)\tPrec@1 93.750 (93.750)\n"
     ]
    },
    {
     "name": "stderr",
     "output_type": "stream",
     "text": [
      " 76%|██████████████████████████████████████████████████████████▍                  | 7596/10000 [03:50<01:02, 38.46it/s]"
     ]
    },
    {
     "name": "stdout",
     "output_type": "stream",
     "text": [
      "\n",
      "Iteration: 7600\tCrossEntropyLoss 0.3711 (0.3711)\tVATLoss 0.2491 (0.2491)\tPrec@1 93.750 (93.750)\n"
     ]
    },
    {
     "name": "stderr",
     "output_type": "stream",
     "text": [
      " 77%|███████████████████████████████████████████████████████████▎                 | 7700/10000 [03:53<00:58, 39.24it/s]"
     ]
    },
    {
     "name": "stdout",
     "output_type": "stream",
     "text": [
      "\n",
      "Iteration: 7700\tCrossEntropyLoss 0.2867 (0.2867)\tVATLoss 0.2615 (0.2615)\tPrec@1 93.750 (93.750)\n"
     ]
    },
    {
     "name": "stderr",
     "output_type": "stream",
     "text": [
      " 78%|████████████████████████████████████████████████████████████                 | 7798/10000 [03:56<01:33, 23.66it/s]"
     ]
    },
    {
     "name": "stdout",
     "output_type": "stream",
     "text": [
      "\n",
      "Iteration: 7800\tCrossEntropyLoss 0.3706 (0.3706)\tVATLoss 0.2552 (0.2552)\tPrec@1 90.625 (90.625)\n"
     ]
    },
    {
     "name": "stderr",
     "output_type": "stream",
     "text": [
      " 79%|████████████████████████████████████████████████████████████▊                | 7900/10000 [04:01<01:27, 24.04it/s]"
     ]
    },
    {
     "name": "stdout",
     "output_type": "stream",
     "text": [
      "\n",
      "Iteration: 7900\tCrossEntropyLoss 0.2549 (0.2549)\tVATLoss 0.2096 (0.2096)\tPrec@1 96.875 (96.875)\n"
     ]
    },
    {
     "name": "stderr",
     "output_type": "stream",
     "text": [
      " 80%|█████████████████████████████████████████████████████████████▌               | 7998/10000 [04:04<00:53, 37.49it/s]"
     ]
    },
    {
     "name": "stdout",
     "output_type": "stream",
     "text": [
      "\n",
      "Iteration: 8000\tCrossEntropyLoss 0.1797 (0.1797)\tVATLoss 0.3454 (0.3454)\tPrec@1 100.000 (100.000)\n"
     ]
    },
    {
     "name": "stderr",
     "output_type": "stream",
     "text": [
      " 81%|██████████████████████████████████████████████████████████████▎              | 8099/10000 [04:07<00:47, 40.05it/s]"
     ]
    },
    {
     "name": "stdout",
     "output_type": "stream",
     "text": [
      "\n",
      "Iteration: 8100\tCrossEntropyLoss 0.2693 (0.2693)\tVATLoss 0.2903 (0.2903)\tPrec@1 93.750 (93.750)\n"
     ]
    },
    {
     "name": "stderr",
     "output_type": "stream",
     "text": [
      " 82%|███████████████████████████████████████████████████████████████▏             | 8200/10000 [04:09<00:47, 37.75it/s]"
     ]
    },
    {
     "name": "stdout",
     "output_type": "stream",
     "text": [
      "\n",
      "Iteration: 8200\tCrossEntropyLoss 0.2496 (0.2496)\tVATLoss 0.2639 (0.2639)\tPrec@1 96.875 (96.875)\n"
     ]
    },
    {
     "name": "stderr",
     "output_type": "stream",
     "text": [
      " 83%|███████████████████████████████████████████████████████████████▉             | 8298/10000 [04:12<00:42, 39.72it/s]"
     ]
    },
    {
     "name": "stdout",
     "output_type": "stream",
     "text": [
      "\n",
      "Iteration: 8300\tCrossEntropyLoss 0.1872 (0.1872)\tVATLoss 0.2720 (0.2720)\tPrec@1 93.750 (93.750)\n"
     ]
    },
    {
     "name": "stderr",
     "output_type": "stream",
     "text": [
      " 84%|████████████████████████████████████████████████████████████████▋            | 8397/10000 [04:15<00:46, 34.77it/s]"
     ]
    },
    {
     "name": "stdout",
     "output_type": "stream",
     "text": [
      "\n",
      "Iteration: 8400\tCrossEntropyLoss 0.1760 (0.1760)\tVATLoss 0.2784 (0.2784)\tPrec@1 96.875 (96.875)\n"
     ]
    },
    {
     "name": "stderr",
     "output_type": "stream",
     "text": [
      " 85%|█████████████████████████████████████████████████████████████████▍           | 8496/10000 [04:18<00:39, 38.53it/s]"
     ]
    },
    {
     "name": "stdout",
     "output_type": "stream",
     "text": [
      "\n",
      "Iteration: 8500\tCrossEntropyLoss 0.1834 (0.1834)\tVATLoss 0.2110 (0.2110)\tPrec@1 100.000 (100.000)\n"
     ]
    },
    {
     "name": "stderr",
     "output_type": "stream",
     "text": [
      " 86%|██████████████████████████████████████████████████████████████████▏          | 8599/10000 [04:21<00:37, 37.60it/s]"
     ]
    },
    {
     "name": "stdout",
     "output_type": "stream",
     "text": [
      "\n",
      "Iteration: 8600\tCrossEntropyLoss 0.2361 (0.2361)\tVATLoss 0.2644 (0.2644)\tPrec@1 96.875 (96.875)\n"
     ]
    },
    {
     "name": "stderr",
     "output_type": "stream",
     "text": [
      " 87%|██████████████████████████████████████████████████████████████████▉          | 8698/10000 [04:23<00:37, 34.77it/s]"
     ]
    },
    {
     "name": "stdout",
     "output_type": "stream",
     "text": [
      "\n",
      "Iteration: 8700\tCrossEntropyLoss 0.3227 (0.3227)\tVATLoss 0.2704 (0.2704)\tPrec@1 87.500 (87.500)\n"
     ]
    },
    {
     "name": "stderr",
     "output_type": "stream",
     "text": [
      " 88%|███████████████████████████████████████████████████████████████████▋         | 8796/10000 [04:26<00:29, 40.66it/s]"
     ]
    },
    {
     "name": "stdout",
     "output_type": "stream",
     "text": [
      "\n",
      "Iteration: 8800\tCrossEntropyLoss 0.1764 (0.1764)\tVATLoss 0.3003 (0.3003)\tPrec@1 100.000 (100.000)\n"
     ]
    },
    {
     "name": "stderr",
     "output_type": "stream",
     "text": [
      " 89%|████████████████████████████████████████████████████████████████████▌        | 8897/10000 [04:29<00:29, 37.59it/s]"
     ]
    },
    {
     "name": "stdout",
     "output_type": "stream",
     "text": [
      "\n",
      "Iteration: 8900\tCrossEntropyLoss 0.1807 (0.1807)\tVATLoss 0.2962 (0.2962)\tPrec@1 96.875 (96.875)\n"
     ]
    },
    {
     "name": "stderr",
     "output_type": "stream",
     "text": [
      " 90%|█████████████████████████████████████████████████████████████████████▎       | 8997/10000 [04:32<00:26, 37.58it/s]"
     ]
    },
    {
     "name": "stdout",
     "output_type": "stream",
     "text": [
      "\n",
      "Iteration: 9000\tCrossEntropyLoss 0.2294 (0.2294)\tVATLoss 0.2739 (0.2739)\tPrec@1 93.750 (93.750)\n"
     ]
    },
    {
     "name": "stderr",
     "output_type": "stream",
     "text": [
      " 91%|██████████████████████████████████████████████████████████████████████       | 9100/10000 [04:35<00:23, 38.16it/s]"
     ]
    },
    {
     "name": "stdout",
     "output_type": "stream",
     "text": [
      "\n",
      "Iteration: 9100\tCrossEntropyLoss 0.3253 (0.3253)\tVATLoss 0.2688 (0.2688)\tPrec@1 90.625 (90.625)\n"
     ]
    },
    {
     "name": "stderr",
     "output_type": "stream",
     "text": [
      " 92%|██████████████████████████████████████████████████████████████████████▊      | 9198/10000 [04:37<00:20, 39.48it/s]"
     ]
    },
    {
     "name": "stdout",
     "output_type": "stream",
     "text": [
      "\n",
      "Iteration: 9200\tCrossEntropyLoss 0.2163 (0.2163)\tVATLoss 0.2387 (0.2387)\tPrec@1 93.750 (93.750)\n"
     ]
    },
    {
     "name": "stderr",
     "output_type": "stream",
     "text": [
      " 93%|███████████████████████████████████████████████████████████████████████▌     | 9300/10000 [04:40<00:17, 39.79it/s]"
     ]
    },
    {
     "name": "stdout",
     "output_type": "stream",
     "text": [
      "\n",
      "Iteration: 9300\tCrossEntropyLoss 0.1718 (0.1718)\tVATLoss 0.2811 (0.2811)\tPrec@1 96.875 (96.875)\n"
     ]
    },
    {
     "name": "stderr",
     "output_type": "stream",
     "text": [
      " 94%|████████████████████████████████████████████████████████████████████████▍    | 9400/10000 [04:43<00:25, 23.64it/s]"
     ]
    },
    {
     "name": "stdout",
     "output_type": "stream",
     "text": [
      "\n",
      "Iteration: 9400\tCrossEntropyLoss 0.1874 (0.1874)\tVATLoss 0.3085 (0.3085)\tPrec@1 93.750 (93.750)\n"
     ]
    },
    {
     "name": "stderr",
     "output_type": "stream",
     "text": [
      " 95%|█████████████████████████████████████████████████████████████████████████▏   | 9499/10000 [04:48<00:22, 22.64it/s]"
     ]
    },
    {
     "name": "stdout",
     "output_type": "stream",
     "text": [
      "\n",
      "Iteration: 9500\tCrossEntropyLoss 0.3078 (0.3078)\tVATLoss 0.2408 (0.2408)\tPrec@1 90.625 (90.625)\n"
     ]
    },
    {
     "name": "stderr",
     "output_type": "stream",
     "text": [
      " 96%|█████████████████████████████████████████████████████████████████████████▉   | 9598/10000 [04:51<00:10, 38.56it/s]"
     ]
    },
    {
     "name": "stdout",
     "output_type": "stream",
     "text": [
      "\n",
      "Iteration: 9600\tCrossEntropyLoss 0.2556 (0.2556)\tVATLoss 0.2606 (0.2606)\tPrec@1 93.750 (93.750)\n"
     ]
    },
    {
     "name": "stderr",
     "output_type": "stream",
     "text": [
      " 97%|██████████████████████████████████████████████████████████████████████████▋  | 9700/10000 [04:54<00:07, 40.24it/s]"
     ]
    },
    {
     "name": "stdout",
     "output_type": "stream",
     "text": [
      "\n",
      "Iteration: 9700\tCrossEntropyLoss 0.2240 (0.2240)\tVATLoss 0.2425 (0.2425)\tPrec@1 96.875 (96.875)\n"
     ]
    },
    {
     "name": "stderr",
     "output_type": "stream",
     "text": [
      " 98%|███████████████████████████████████████████████████████████████████████████▍ | 9797/10000 [04:57<00:05, 36.95it/s]"
     ]
    },
    {
     "name": "stdout",
     "output_type": "stream",
     "text": [
      "\n",
      "Iteration: 9800\tCrossEntropyLoss 0.2139 (0.2139)\tVATLoss 0.2275 (0.2275)\tPrec@1 93.750 (93.750)\n"
     ]
    },
    {
     "name": "stderr",
     "output_type": "stream",
     "text": [
      " 99%|████████████████████████████████████████████████████████████████████████████▏| 9900/10000 [05:00<00:02, 33.85it/s]"
     ]
    },
    {
     "name": "stdout",
     "output_type": "stream",
     "text": [
      "\n",
      "Iteration: 9900\tCrossEntropyLoss 0.1472 (0.1472)\tVATLoss 0.2094 (0.2094)\tPrec@1 96.875 (96.875)\n"
     ]
    },
    {
     "name": "stderr",
     "output_type": "stream",
     "text": [
      "100%|████████████████████████████████████████████████████████████████████████████| 10000/10000 [05:02<00:00, 33.03it/s]\n",
      "100%|██████████████████████████████████████████████████████████████████████████████████| 10/10 [00:01<00:00,  5.37it/s]\n"
     ]
    },
    {
     "name": "stdout",
     "output_type": "stream",
     "text": [
      "              precision    recall  f1-score   support\n",
      "\n",
      "    airplane       0.39      0.78      0.52      1000\n",
      "  automobile       0.87      0.46      0.60      1000\n",
      "        bird       0.30      0.68      0.41      1000\n",
      "         cat       0.34      0.46      0.39      1000\n",
      "        deer       0.52      0.26      0.35      1000\n",
      "         dog       0.45      0.52      0.48      1000\n",
      "        frog       0.82      0.23      0.36      1000\n",
      "       horse       0.86      0.39      0.54      1000\n",
      "        ship       0.67      0.57      0.61      1000\n",
      "       truck       0.75      0.46      0.57      1000\n",
      "\n",
      "    accuracy                           0.48     10000\n",
      "   macro avg       0.60      0.48      0.48     10000\n",
      "weighted avg       0.60      0.48      0.48     10000\n",
      "\n",
      "\n",
      "Test Accuracy: 47.9300%\n",
      "\n"
     ]
    }
   ],
   "source": [
    "%run train_CIFAR10.py"
   ]
  }
 ],
 "metadata": {
  "kernelspec": {
   "display_name": "torch-gpu",
   "language": "python",
   "name": "torch-gpu"
  },
  "language_info": {
   "codemirror_mode": {
    "name": "ipython",
    "version": 3
   },
   "file_extension": ".py",
   "mimetype": "text/x-python",
   "name": "python",
   "nbconvert_exporter": "python",
   "pygments_lexer": "ipython3",
   "version": "3.7.11"
  }
 },
 "nbformat": 4,
 "nbformat_minor": 5
}
