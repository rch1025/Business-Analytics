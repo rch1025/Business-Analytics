{
 "cells": [
  {
   "cell_type": "markdown",
   "metadata": {},
   "source": [
    "## Bagging 모델들의 다양성 증진 시도 및 해석 가능성 확인\n",
    "##### 본 tutorial은 `랜덤포레스트의 다양성을 증진할 수 있는 방법`에 대해 알아보고, 이들의 `RF 모델의 설명 가능성과 Explainable Boosting Machine (EBM)의 설명가능성을 비교`하는 것을 목적으로 한다.\n",
    "- 실험 1) 개별 weak learner custom에 따른 성능 차이 확인\n",
    "- 실험 2) Bootstrap custom에 따른 성능 차이 확인"
   ]
  },
  {
   "cell_type": "markdown",
   "metadata": {},
   "source": [
    "#### 실험1: 개별 weak learner custom에 따른 성능 차이 확인\n",
    "- Random Forest는 weak learner의 분기마다 임의의 변수들을 랜덤하게 샘플링 한 뒤에, 그 안에서 information gain을 최대화하는 변수를 찾는다.\n",
    "    => 모든 변수에 대해서 information gain을 찾지 않는다. (제약 설정)\n",
    "- 개별 tree의 분기에 사용하는 변수의 수를 제한하여 학습된 의사결정나무가 모든 변수를 사용한 의사결정나무에 비해서 1:1로 비교할 경우 정확도가 상대적으로 낮지만, 집단간 비교 시 다양성 확보로 인해 시너지 효과를 낼 수 있음을 의미한다. (비즈니스 애널리틱스 강필성 교수님 수업 중 참고)\n",
    "- `개별 트리들에 있어서 임의 변수 추출을 하지 않고, 모든 변수를 사용하면 어떨까?` -> 모델에 입력되는 학습데이터도 붓스트랩을 통해 달라지기에 충분한 '다양성'을 확보했다고 생각 -> 일반적인 Decision Tree를 사용해서 성능 확인"
   ]
  },
  {
   "cell_type": "code",
   "execution_count": 193,
   "metadata": {},
   "outputs": [],
   "source": [
    "import pandas as pd\n",
    "import numpy as np\n",
    "from sklearn.ensemble import RandomForestClassifier\n",
    "from sklearn.tree import DecisionTreeClassifier\n",
    "import seaborn as sns\n",
    "from sklearn.datasets import make_classification\n",
    "from sklearn.model_selection import train_test_split\n",
    "from sklearn.utils import resample\n",
    "from sklearn.metrics import roc_auc_score\n",
    "import tqdm\n",
    "from typing import Tuple\n",
    "from typing import Dict"
   ]
  },
  {
   "cell_type": "code",
   "execution_count": 194,
   "metadata": {},
   "outputs": [
    {
     "data": {
      "text/html": [
       "<div>\n",
       "<style scoped>\n",
       "    .dataframe tbody tr th:only-of-type {\n",
       "        vertical-align: middle;\n",
       "    }\n",
       "\n",
       "    .dataframe tbody tr th {\n",
       "        vertical-align: top;\n",
       "    }\n",
       "\n",
       "    .dataframe thead th {\n",
       "        text-align: right;\n",
       "    }\n",
       "</style>\n",
       "<table border=\"1\" class=\"dataframe\">\n",
       "  <thead>\n",
       "    <tr style=\"text-align: right;\">\n",
       "      <th></th>\n",
       "      <th>0</th>\n",
       "      <th>1</th>\n",
       "      <th>2</th>\n",
       "      <th>3</th>\n",
       "      <th>4</th>\n",
       "      <th>5</th>\n",
       "      <th>6</th>\n",
       "      <th>7</th>\n",
       "      <th>8</th>\n",
       "      <th>9</th>\n",
       "      <th>10</th>\n",
       "      <th>11</th>\n",
       "      <th>12</th>\n",
       "      <th>13</th>\n",
       "      <th>14</th>\n",
       "      <th>15</th>\n",
       "      <th>16</th>\n",
       "      <th>17</th>\n",
       "      <th>18</th>\n",
       "      <th>19</th>\n",
       "    </tr>\n",
       "  </thead>\n",
       "  <tbody>\n",
       "    <tr>\n",
       "      <th>0</th>\n",
       "      <td>10.377175</td>\n",
       "      <td>0.791082</td>\n",
       "      <td>-1.578970</td>\n",
       "      <td>-0.629338</td>\n",
       "      <td>-4.271231</td>\n",
       "      <td>-1.486054</td>\n",
       "      <td>0.907795</td>\n",
       "      <td>0.902715</td>\n",
       "      <td>-1.363631</td>\n",
       "      <td>2.551098</td>\n",
       "      <td>2.170168</td>\n",
       "      <td>3.770187</td>\n",
       "      <td>-2.245644</td>\n",
       "      <td>0.410449</td>\n",
       "      <td>-0.917343</td>\n",
       "      <td>0.455528</td>\n",
       "      <td>0.122309</td>\n",
       "      <td>-0.364101</td>\n",
       "      <td>-4.177382</td>\n",
       "      <td>1.451621</td>\n",
       "    </tr>\n",
       "    <tr>\n",
       "      <th>1</th>\n",
       "      <td>-6.793029</td>\n",
       "      <td>-0.525945</td>\n",
       "      <td>-1.854669</td>\n",
       "      <td>2.843386</td>\n",
       "      <td>2.950132</td>\n",
       "      <td>3.216077</td>\n",
       "      <td>0.372532</td>\n",
       "      <td>-1.116148</td>\n",
       "      <td>-1.726772</td>\n",
       "      <td>-1.064258</td>\n",
       "      <td>1.256504</td>\n",
       "      <td>-1.240099</td>\n",
       "      <td>-1.549392</td>\n",
       "      <td>-1.876169</td>\n",
       "      <td>2.972222</td>\n",
       "      <td>-2.102989</td>\n",
       "      <td>-3.346343</td>\n",
       "      <td>-1.794734</td>\n",
       "      <td>3.398536</td>\n",
       "      <td>-1.063641</td>\n",
       "    </tr>\n",
       "    <tr>\n",
       "      <th>2</th>\n",
       "      <td>0.994392</td>\n",
       "      <td>0.163488</td>\n",
       "      <td>-1.331628</td>\n",
       "      <td>1.058797</td>\n",
       "      <td>-3.288186</td>\n",
       "      <td>1.433961</td>\n",
       "      <td>1.204198</td>\n",
       "      <td>0.957120</td>\n",
       "      <td>1.624522</td>\n",
       "      <td>1.467952</td>\n",
       "      <td>-2.140157</td>\n",
       "      <td>3.883353</td>\n",
       "      <td>3.180055</td>\n",
       "      <td>2.326034</td>\n",
       "      <td>3.960384</td>\n",
       "      <td>1.445266</td>\n",
       "      <td>0.029692</td>\n",
       "      <td>0.104027</td>\n",
       "      <td>-0.148485</td>\n",
       "      <td>-1.283163</td>\n",
       "    </tr>\n",
       "    <tr>\n",
       "      <th>3</th>\n",
       "      <td>10.645223</td>\n",
       "      <td>-1.319847</td>\n",
       "      <td>-2.972818</td>\n",
       "      <td>-1.796683</td>\n",
       "      <td>-0.632752</td>\n",
       "      <td>-0.361741</td>\n",
       "      <td>2.213520</td>\n",
       "      <td>2.720563</td>\n",
       "      <td>-3.497270</td>\n",
       "      <td>2.191274</td>\n",
       "      <td>0.582128</td>\n",
       "      <td>6.571167</td>\n",
       "      <td>0.493361</td>\n",
       "      <td>0.914744</td>\n",
       "      <td>0.776501</td>\n",
       "      <td>4.621038</td>\n",
       "      <td>-0.355681</td>\n",
       "      <td>0.126882</td>\n",
       "      <td>-1.482002</td>\n",
       "      <td>0.154268</td>\n",
       "    </tr>\n",
       "    <tr>\n",
       "      <th>4</th>\n",
       "      <td>-3.000188</td>\n",
       "      <td>-0.555664</td>\n",
       "      <td>-2.492928</td>\n",
       "      <td>0.625268</td>\n",
       "      <td>-0.252953</td>\n",
       "      <td>-3.733850</td>\n",
       "      <td>-1.268464</td>\n",
       "      <td>0.862210</td>\n",
       "      <td>3.289753</td>\n",
       "      <td>3.475318</td>\n",
       "      <td>-4.473016</td>\n",
       "      <td>-2.527463</td>\n",
       "      <td>-0.201719</td>\n",
       "      <td>-1.929009</td>\n",
       "      <td>-1.165762</td>\n",
       "      <td>-1.221145</td>\n",
       "      <td>-1.451504</td>\n",
       "      <td>1.789955</td>\n",
       "      <td>1.394556</td>\n",
       "      <td>0.880454</td>\n",
       "    </tr>\n",
       "  </tbody>\n",
       "</table>\n",
       "</div>"
      ],
      "text/plain": [
       "          0         1         2         3         4         5         6   \\\n",
       "0  10.377175  0.791082 -1.578970 -0.629338 -4.271231 -1.486054  0.907795   \n",
       "1  -6.793029 -0.525945 -1.854669  2.843386  2.950132  3.216077  0.372532   \n",
       "2   0.994392  0.163488 -1.331628  1.058797 -3.288186  1.433961  1.204198   \n",
       "3  10.645223 -1.319847 -2.972818 -1.796683 -0.632752 -0.361741  2.213520   \n",
       "4  -3.000188 -0.555664 -2.492928  0.625268 -0.252953 -3.733850 -1.268464   \n",
       "\n",
       "         7         8         9         10        11        12        13  \\\n",
       "0  0.902715 -1.363631  2.551098  2.170168  3.770187 -2.245644  0.410449   \n",
       "1 -1.116148 -1.726772 -1.064258  1.256504 -1.240099 -1.549392 -1.876169   \n",
       "2  0.957120  1.624522  1.467952 -2.140157  3.883353  3.180055  2.326034   \n",
       "3  2.720563 -3.497270  2.191274  0.582128  6.571167  0.493361  0.914744   \n",
       "4  0.862210  3.289753  3.475318 -4.473016 -2.527463 -0.201719 -1.929009   \n",
       "\n",
       "         14        15        16        17        18        19  \n",
       "0 -0.917343  0.455528  0.122309 -0.364101 -4.177382  1.451621  \n",
       "1  2.972222 -2.102989 -3.346343 -1.794734  3.398536 -1.063641  \n",
       "2  3.960384  1.445266  0.029692  0.104027 -0.148485 -1.283163  \n",
       "3  0.776501  4.621038 -0.355681  0.126882 -1.482002  0.154268  \n",
       "4 -1.165762 -1.221145 -1.451504  1.789955  1.394556  0.880454  "
      ]
     },
     "execution_count": 194,
     "metadata": {},
     "output_type": "execute_result"
    }
   ],
   "source": [
    "\"\"\"데이터셋 생성\"\"\"\n",
    "X, y = make_classification(\n",
    "            n_samples = 10000, # 10000개의 데이터셋\n",
    "            n_informative=15, # 20개의 독립변수\n",
    "            n_redundant=2, # 독립변수와 종속변수 간의 상관관계 존재 개수\n",
    "            n_classes=2, # 독립변수 중 다른 독립 변수의 선형 조합으로 나타나는 성분의 수\n",
    "            weights = [.9], # 2개의 class, 클래스 비율\n",
    "            random_state = 42)\n",
    "X = pd.DataFrame(X)\n",
    "X.head()"
   ]
  },
  {
   "cell_type": "code",
   "execution_count": 201,
   "metadata": {},
   "outputs": [],
   "source": [
    "\"\"\"\n",
    "1)변수 임의 추출이 아닌 모든 변수를 사용한 트리 사용\n",
    "    # 1. 입력 데이터 형태 지정\n",
    "    # 2-1. 개별 트리 생성 및 저장\n",
    "    # 2-2. 붓스트랩 생성\n",
    "    # 3. soft voting 방식을 사용하여 aggregating\n",
    "\"\"\"\n",
    "class BaseLearner_Variation_Forest():\n",
    "    def __init__(self, n_estimators: int = 100, max_features: str = \"sqrt\",min_samples_leaf: int = 6, random_state: int = None) -> None: # 리턴 없음\n",
    "        self.n_estimators = n_estimators\n",
    "        self.max_features = max_features\n",
    "        self.min_samples_leaf = min_samples_leaf\n",
    "        self.random_state = random_state\n",
    "        \n",
    "      \n",
    "    def fit(self, X: pd.DataFrame, y: np.array):\n",
    "        \n",
    "        ### 1. 입력 데이터 형태 지정 -> dataset은 데이터프레임 형태 / y는 np.array\n",
    "        X = pd.DataFrame(X) if not isinstance(X, pd.DataFrame) else X\n",
    "        assert isinstance(y, np.ndarray)\n",
    "        \n",
    "        ### 2-1. 개별 트리 생성 및 저장\n",
    "        base_learner_list = [] # n_estimators 만큼의 트리 저장\n",
    "        for i in range(self.n_estimators):\n",
    "            # 붓스트랩핑\n",
    "            X_bootstrap, y_bootstrap = self._bootstrap_sample(X, y)\n",
    "        \n",
    "            # weak learner 적용\n",
    "            weak_learner = DecisionTreeClassifier(\n",
    "                    max_features = self.max_features,\n",
    "                    min_samples_leaf = self.min_samples_leaf,\n",
    "                    random_state = self.random_state+i)\n",
    "            weak_learner.fit(X_bootstrap, y_bootstrap)\n",
    "            base_learner_list.append(weak_learner)\n",
    "\n",
    "        self.base_learner_list = base_learner_list\n",
    "        return self\n",
    "        \n",
    "    ### 2-2. 붓스트랩 생성\n",
    "    def _bootstrap_sample(self, X: pd.DataFrame, y: np.ndarray) -> Tuple[pd.DataFrame, np.ndarray]: ##############################\n",
    "        n_samples = X.shape[0]\n",
    "        indexs = np.random.randint(low=0, high=n_samples, size=n_samples) # 붓스트랩에 사용할 인덱스 복원추출\n",
    "        X_bootstrap = X.iloc[indexs]; y_bootstrap = y[indexs] # x와 y의 붓스트랩 샘플\n",
    "        return X_bootstrap, y_bootstrap\n",
    "\n",
    "    ### 3. Aggregating에 있어서 soft voting 방식 사용\n",
    "    def predict_proba(self, X: pd.DataFrame):\n",
    "        probas = np.asarray([clf.predict_proba(X) for clf in self.base_learner_list])\n",
    "        avg_predict = np.average(probas, axis=0) # 관측치별 예측 확률 계산\n",
    "        return avg_predict"
   ]
  },
  {
   "cell_type": "code",
   "execution_count": 202,
   "metadata": {},
   "outputs": [],
   "source": [
    "\"\"\"평가 함수\"\"\"\n",
    "def evaluation_models(models: Dict, X, y, n_trials: int) -> pd.DataFrame: # 데이터 프레임 형태로 반환\n",
    "    perf = pd.DataFrame()\n",
    "\n",
    "    seeds = range(n_trials) # n_trials번 돌린 값의 평균을 사용하여 성능 평가\n",
    "    for name, model in tqdm.tqdm(models.items()):\n",
    "        p = evaluate_performance(model, X, y, name, seeds=seeds)\n",
    "        perf = perf.append(p)\n",
    "    \n",
    "    perf = perf.sort_values(['auc_test'], ascending=False)\n",
    "    return perf\n",
    "\n",
    "\n",
    "def evaluate_performance(model, X, y, model_name = \"\", test_size = .2, seeds = [42]):\n",
    "    \n",
    "    auc_test = []\n",
    "    auc_train = []\n",
    "    # seed 개수만큼 반복\n",
    "    for seed in seeds:\n",
    "        X_train, X_test, y_train, y_test = train_test_split(X, y, test_size = test_size, random_state = seed, stratify = y)\n",
    "            \n",
    "        model.fit(X_train, y_train)\n",
    "        # class 1로 예측할 확률만 가져오기\n",
    "        metric_test = roc_auc_score(y_test, model.predict_proba(X_test)[:,1]) \n",
    "        auc_test.append(metric_test)\n",
    "        metric_train = roc_auc_score(y_train, model.predict_proba(X_train)[:,1])\n",
    "        auc_train.append(metric_train)\n",
    "        \n",
    "    auc_train = round(np.mean(auc_train),4)\n",
    "    auc_test = round(np.mean(auc_test),4)\n",
    "    \n",
    "    data = [model_name, auc_train, auc_test, auc_train - auc_test, len(seeds)]\n",
    "    return pd.DataFrame([data], columns = ['model','auc_train', 'auc_test', 'delta','n_models'])"
   ]
  },
  {
   "cell_type": "code",
   "execution_count": 204,
   "metadata": {},
   "outputs": [
    {
     "name": "stderr",
     "output_type": "stream",
     "text": [
      "  0%|          | 0/2 [00:00<?, ?it/s]C:\\Users\\ROHSEU~1\\AppData\\Local\\Temp/ipykernel_32012/3391097967.py:8: FutureWarning: The frame.append method is deprecated and will be removed from pandas in a future version. Use pandas.concat instead.\n",
      "  perf = perf.append(p)\n",
      " 50%|█████     | 1/2 [00:47<00:47, 47.81s/it]C:\\Users\\ROHSEU~1\\AppData\\Local\\Temp/ipykernel_32012/3391097967.py:8: FutureWarning: The frame.append method is deprecated and will be removed from pandas in a future version. Use pandas.concat instead.\n",
      "  perf = perf.append(p)\n",
      "100%|██████████| 2/2 [01:58<00:00, 59.17s/it]\n"
     ]
    },
    {
     "data": {
      "text/html": [
       "<div>\n",
       "<style scoped>\n",
       "    .dataframe tbody tr th:only-of-type {\n",
       "        vertical-align: middle;\n",
       "    }\n",
       "\n",
       "    .dataframe tbody tr th {\n",
       "        vertical-align: top;\n",
       "    }\n",
       "\n",
       "    .dataframe thead th {\n",
       "        text-align: right;\n",
       "    }\n",
       "</style>\n",
       "<table border=\"1\" class=\"dataframe\">\n",
       "  <thead>\n",
       "    <tr style=\"text-align: right;\">\n",
       "      <th></th>\n",
       "      <th>model</th>\n",
       "      <th>auc_train</th>\n",
       "      <th>auc_test</th>\n",
       "      <th>delta</th>\n",
       "      <th>n_models</th>\n",
       "    </tr>\n",
       "  </thead>\n",
       "  <tbody>\n",
       "    <tr>\n",
       "      <th>0</th>\n",
       "      <td>BaseLearner_Variation_Forest RF</td>\n",
       "      <td>0.9999</td>\n",
       "      <td>0.9584</td>\n",
       "      <td>0.0415</td>\n",
       "      <td>20</td>\n",
       "    </tr>\n",
       "    <tr>\n",
       "      <th>0</th>\n",
       "      <td>Vanilla RF</td>\n",
       "      <td>0.9994</td>\n",
       "      <td>0.9576</td>\n",
       "      <td>0.0418</td>\n",
       "      <td>20</td>\n",
       "    </tr>\n",
       "  </tbody>\n",
       "</table>\n",
       "</div>"
      ],
      "text/plain": [
       "                             model  auc_train  auc_test   delta  n_models\n",
       "0  BaseLearner_Variation_Forest RF     0.9999    0.9584  0.0415        20\n",
       "0                       Vanilla RF     0.9994    0.9576  0.0418        20"
      ]
     },
     "execution_count": 204,
     "metadata": {},
     "output_type": "execute_result"
    }
   ],
   "source": [
    "forest_parameters = {\"n_estimators\": 100,\"min_samples_leaf\":5, \"max_features\": 'sqrt', \"random_state\": 42}\n",
    "\n",
    "evaluation_models(models={\n",
    "    'Vanilla RF' : RandomForestClassifier(**forest_parameters),\n",
    "    'BaseLearner_Variation_Forest RF' : BaseLearner_Variation_Forest(**forest_parameters)\n",
    "    }, X=X, y=y, n_trials=20\n",
    ")"
   ]
  },
  {
   "cell_type": "markdown",
   "metadata": {},
   "source": [
    "[해석]\n",
    "- 배깅에 있어서 모든 붓스트랩의 weak learner들에 모든 변수를 사용하는 것이 '다양성'을 줄여 최종적으로 성능 또한 떨어지는지 알고 싶었다.\n",
    "- 따라서 Weak learner의 분기에 있어서 임의 변수 추출을 사용하는 랜덤 포레스트와 달리 변형한 방법은 모든 변수를 사용한다.\n",
    "- 결과는 미미하지만 test셋에 대해 정확도가 조금 더 오른 것을 확인할 수 있었다. 과적합이 더 된 것 같기에 다른 데이터셋에 대해서도 확인을 해봐야하나 간단한 테스트에서는 나쁘지 않은 성능을 도출하는 것을 알 수 있었다.\n",
    "- 이후에는 매우 중요한 변수와 그렇지 않은 변수들로, 변수들 간에 극단적인 기여도 차이를 보이는 데이터셋에 대해서 검증을 해볼 예정이다."
   ]
  },
  {
   "cell_type": "markdown",
   "metadata": {},
   "source": [
    "---"
   ]
  },
  {
   "cell_type": "markdown",
   "metadata": {},
   "source": [
    "#### 실험2: Bootstrap custom을 통한 성능 변화 확인\n",
    "- Bootstrap을 통해 학습데이터의 노이즈 ($\\epsilon$)의 정도를 게속적으로 바꿔줌으로서 좋은 뜻의 데이터 왜곡을 수행한다.\n",
    "- 복원 추출을 사용하기에 동일한 관측치가 하나의 붓스트랩에 여러 개 포함될 수 있다. 같은 관측치의 증가는 정보량의 증가라고 할 수 있는데, 그 이유는 다음과 같다. 전체 데이터의 분포 자체에서 중복된 데이터에 대한 가중치가 생기는 것이다. 혼자 떨어져 있는 관측치를 original dataset에서는 구분하지 못하나 이를 복원추출을 통해 여러개 뽑는다면 이는 중복된 관측치에 가중치가 부여되게 하여 해당 관측치가 분류될 수 있게 된다.\n",
    "- `일반적인 붓스트랩 방식이 아닌 class 간의 불균형을 고려한 붓스트랩 방식을 통해 학습 데이터의 왜곡을 수행하면 어떨까?` -> 기존의 붓스트랩이 적은 class의 관측치들에 대해 가중치를 주어서 학습 데이터를 생성한다고 하더라도 이는 한계가 존재할 것이라 생각 -> 기존의 방식이 아닌 다른 방식의 붓스트랩 적용"
   ]
  },
  {
   "cell_type": "code",
   "execution_count": 209,
   "metadata": {},
   "outputs": [],
   "source": [
    "\"\"\"\n",
    "2-1) 각 붓스트랩이 클래스의 불균형 비율을 그대로 가져가게 하기\n",
    "- 위에서 만든 class에서 bootstrap 샘플링 기법 변환\n",
    "- 사이킷런 라이브러릴 활용하여 소수 클래스 추출 -> 클래스 비율 맞추기\n",
    "\"\"\"\n",
    "from sklearn.utils import resample\n",
    "\n",
    "class Stratified_Bootstraping_Forest(BaseLearner_Variation_Forest):    \n",
    "    def _bootstrap_sample(self, X: pd.DataFrame, y: np.ndarray) -> Tuple[pd.DataFrame, np.ndarray]: # 반환 형식\n",
    "        X_bootstrap, y_bootstrap = resample(X, y, stratify = y) # target class의 비율에 맞춰서 resampling\n",
    "        return X_bootstrap, y_bootstrap"
   ]
  },
  {
   "cell_type": "code",
   "execution_count": 210,
   "metadata": {},
   "outputs": [],
   "source": [
    "\"\"\"\n",
    "2-2) 소수 클래스의 사이즈 만큼 다수 클래스 붓스트래핑\n",
    "- 위에서 만든 class에서 bootstrap 샘플링 기법 변환\n",
    "- minority 클래스에 대해서 해당 클래스의 수 만큼 복원추출하고, 다수 클래스를 소수 클래스 수에 맞춰서 뽑기\n",
    "    # 1. Minority 클래스 찾기\n",
    "    # 2. Minority 클래스 붓스트래핑\n",
    "    # 3. Majority 클래스를 minority만큼 붓스트래핑\n",
    "    # 4. 합치기\n",
    "\"\"\"\n",
    "class Balance_Bootstraping_Forest(BaseLearner_Variation_Forest):\n",
    "    def _bootstrap_sample(self, X: pd.DataFrame, y: np.ndarray) -> Tuple[pd.DataFrame, np.ndarray]:\n",
    "        ### 1. Minority 클래스 찾기\n",
    "        counts = np.bincount(y)\n",
    "        minority_class = np.argmin(counts)\n",
    "        n_minority = counts[minority_class] # 적은 클래스의 개수 \n",
    "\n",
    "        ### 2. Minority 클래스 붓스트래핑\n",
    "        indices_minority = np.random.choice(\n",
    "            np.where(y == minority_class)[0], \n",
    "            size = n_minority,\n",
    "            replace = True)\n",
    "\n",
    "        ### 2. Majority 클래스를 minority만큼 붓스트래핑\n",
    "        indices_majority = np.random.choice(\n",
    "            np.where(y != minority_class)[0],\n",
    "            size = n_minority,\n",
    "            replace = True)\n",
    "        \n",
    "        ### 3. 합치기\n",
    "        indices = np.hstack([indices_majority, indices_minority])\n",
    "        np.random.shuffle(indices) # 셔플링\n",
    "        \n",
    "        X_bootstrap = X.iloc[indices]\n",
    "        y_bootstrap = y[indices]\n",
    "        return X_bootstrap, y_bootstrap\n"
   ]
  },
  {
   "cell_type": "code",
   "execution_count": 212,
   "metadata": {},
   "outputs": [],
   "source": [
    "\"\"\"\n",
    "2-3) 전체 개수의 50:50으로 소수 클래스와 다수 클래스 비율 맞추기\n",
    "- 위에서 만든 class에서 bootstrap 샘플링 기법 변환\n",
    "- 전체 개수의 절반만큼 소수 클래스에서 복원추출하고, 나머지 절반은 다수 클래스에서 복원추출하기\n",
    "    # 1. 전체 개수에 대해서 50:50으로 나누기\n",
    "    # 2. 다수 클래스 선택\n",
    "    # 3. 소수 클래스 붓스트랩\n",
    "    # 4. 다수 클래스 붓스트랩\n",
    "\"\"\"\n",
    "class Same_Ratio_Bootstraping_Forest(BaseLearner_Variation_Forest):\n",
    "    def _bootstrap_sample(self, X: pd.DataFrame, y: np.ndarray) -> Tuple[pd.DataFrame, np.ndarray]:\n",
    "        n_majority = n_minority = int(len(y) / 2)\n",
    "        if len(y) % 2 == 1:\n",
    "            n_majority -= 1 \n",
    "        assert n_minority + n_majority == len(y)\n",
    "\n",
    "        ### 2. 다수 클래스 선택\n",
    "        counts = np.bincount(y)\n",
    "        majority_class = np.argmax(counts)\n",
    "\n",
    "        ### 3. 다수 클래스 붓스트랩\n",
    "        indices_minority = np.random.choice(\n",
    "            np.where(y != majority_class)[0],\n",
    "            size = n_minority,\n",
    "            replace = True)\n",
    "\n",
    "        ### 3. 소수 클래스 붓스트랩\n",
    "        indices_majority = np.random.choice(\n",
    "            np.where(y == majority_class)[0],\n",
    "            size = n_majority,\n",
    "            replace = True)\n",
    "            \n",
    "        indices = np.hstack([indices_majority, indices_minority]) # 합치기\n",
    "        np.random.shuffle(indices) # in-place\n",
    "        \n",
    "        X_bootstrap = X.iloc[indices]\n",
    "        y_bootstrap = y[indices]\n",
    "        return X_bootstrap, y_bootstrap"
   ]
  },
  {
   "cell_type": "code",
   "execution_count": 214,
   "metadata": {},
   "outputs": [
    {
     "name": "stderr",
     "output_type": "stream",
     "text": [
      "  0%|          | 0/5 [00:00<?, ?it/s]C:\\Users\\ROHSEU~1\\AppData\\Local\\Temp/ipykernel_32012/3391097967.py:8: FutureWarning: The frame.append method is deprecated and will be removed from pandas in a future version. Use pandas.concat instead.\n",
      "  perf = perf.append(p)\n",
      " 20%|██        | 1/5 [00:46<03:04, 46.20s/it]C:\\Users\\ROHSEU~1\\AppData\\Local\\Temp/ipykernel_32012/3391097967.py:8: FutureWarning: The frame.append method is deprecated and will be removed from pandas in a future version. Use pandas.concat instead.\n",
      "  perf = perf.append(p)\n",
      " 40%|████      | 2/5 [01:57<03:03, 61.22s/it]C:\\Users\\ROHSEU~1\\AppData\\Local\\Temp/ipykernel_32012/3391097967.py:8: FutureWarning: The frame.append method is deprecated and will be removed from pandas in a future version. Use pandas.concat instead.\n",
      "  perf = perf.append(p)\n",
      " 60%|██████    | 3/5 [03:14<02:16, 68.03s/it]C:\\Users\\ROHSEU~1\\AppData\\Local\\Temp/ipykernel_32012/3391097967.py:8: FutureWarning: The frame.append method is deprecated and will be removed from pandas in a future version. Use pandas.concat instead.\n",
      "  perf = perf.append(p)\n",
      " 80%|████████  | 4/5 [03:33<00:48, 48.82s/it]C:\\Users\\ROHSEU~1\\AppData\\Local\\Temp/ipykernel_32012/3391097967.py:8: FutureWarning: The frame.append method is deprecated and will be removed from pandas in a future version. Use pandas.concat instead.\n",
      "  perf = perf.append(p)\n",
      "100%|██████████| 5/5 [04:29<00:00, 53.81s/it]\n"
     ]
    },
    {
     "data": {
      "text/html": [
       "<div>\n",
       "<style scoped>\n",
       "    .dataframe tbody tr th:only-of-type {\n",
       "        vertical-align: middle;\n",
       "    }\n",
       "\n",
       "    .dataframe tbody tr th {\n",
       "        vertical-align: top;\n",
       "    }\n",
       "\n",
       "    .dataframe thead th {\n",
       "        text-align: right;\n",
       "    }\n",
       "</style>\n",
       "<table border=\"1\" class=\"dataframe\">\n",
       "  <thead>\n",
       "    <tr style=\"text-align: right;\">\n",
       "      <th></th>\n",
       "      <th>model</th>\n",
       "      <th>auc_train</th>\n",
       "      <th>auc_test</th>\n",
       "      <th>delta</th>\n",
       "      <th>n_models</th>\n",
       "    </tr>\n",
       "  </thead>\n",
       "  <tbody>\n",
       "    <tr>\n",
       "      <th>0</th>\n",
       "      <td>Same_Ratio_Bootstraping_Forest RF</td>\n",
       "      <td>1.0000</td>\n",
       "      <td>0.9644</td>\n",
       "      <td>0.0356</td>\n",
       "      <td>20</td>\n",
       "    </tr>\n",
       "    <tr>\n",
       "      <th>0</th>\n",
       "      <td>BaseLearner_Variation_Forest RF</td>\n",
       "      <td>0.9999</td>\n",
       "      <td>0.9587</td>\n",
       "      <td>0.0412</td>\n",
       "      <td>20</td>\n",
       "    </tr>\n",
       "    <tr>\n",
       "      <th>0</th>\n",
       "      <td>Stratified_Bootstraping_Forest RF</td>\n",
       "      <td>0.9999</td>\n",
       "      <td>0.9581</td>\n",
       "      <td>0.0418</td>\n",
       "      <td>20</td>\n",
       "    </tr>\n",
       "    <tr>\n",
       "      <th>0</th>\n",
       "      <td>Balance_Bootstraping_Forest RF</td>\n",
       "      <td>0.9960</td>\n",
       "      <td>0.9580</td>\n",
       "      <td>0.0380</td>\n",
       "      <td>20</td>\n",
       "    </tr>\n",
       "    <tr>\n",
       "      <th>0</th>\n",
       "      <td>Vanilla RF</td>\n",
       "      <td>0.9994</td>\n",
       "      <td>0.9576</td>\n",
       "      <td>0.0418</td>\n",
       "      <td>20</td>\n",
       "    </tr>\n",
       "  </tbody>\n",
       "</table>\n",
       "</div>"
      ],
      "text/plain": [
       "                               model  auc_train  auc_test   delta  n_models\n",
       "0  Same_Ratio_Bootstraping_Forest RF     1.0000    0.9644  0.0356        20\n",
       "0    BaseLearner_Variation_Forest RF     0.9999    0.9587  0.0412        20\n",
       "0  Stratified_Bootstraping_Forest RF     0.9999    0.9581  0.0418        20\n",
       "0     Balance_Bootstraping_Forest RF     0.9960    0.9580  0.0380        20\n",
       "0                         Vanilla RF     0.9994    0.9576  0.0418        20"
      ]
     },
     "execution_count": 214,
     "metadata": {},
     "output_type": "execute_result"
    }
   ],
   "source": [
    "forest_parameters = {\"n_estimators\": 100,\"min_samples_leaf\":5, \"max_features\": 'sqrt', \"random_state\": 42}\n",
    "\n",
    "evaluation_models(models={\n",
    "    'Vanilla RF' : RandomForestClassifier(**forest_parameters),\n",
    "    'BaseLearner_Variation_Forest RF' : BaseLearner_Variation_Forest(**forest_parameters),\n",
    "    'Stratified_Bootstraping_Forest RF' : Stratified_Bootstraping_Forest(**forest_parameters),\n",
    "    'Balance_Bootstraping_Forest RF' : Balance_Bootstraping_Forest(**forest_parameters),\n",
    "    'Same_Ratio_Bootstraping_Forest RF' : Same_Ratio_Bootstraping_Forest(**forest_parameters)\n",
    "    }, X=X, y=y, n_trials=20\n",
    ")"
   ]
  },
  {
   "cell_type": "markdown",
   "metadata": {},
   "source": [
    "[해석]\n",
    "- 위 실험은 배깅 방식의 '다양성 증진과 이를 통한 성능 향상'이 주어진 데이터셋을 여러 방식으로 바꾸는 방식으로도 달성이 가능한가를 보기 위함이다. 결과는 다음과 같다.\n",
    "- 전체 데이터 개수만큼 복원추출을 하며, 소수 클래스와 다수 클래스의 비율을 5:5로 맞출 때 (Same_Ratio_Bootstraping_Forest) 가장 좋은 성능을 보임을 알 수 있다. 그러나 생성한 데이터가 아닌 다른 데이터에 대해서도 실험을 하여 train data에 대한 과적합 여부를 확인해볼 필요가 있다.\n",
    "- 시도한 모든 방식들은 일반적인 랜덤포레스트보다 좋은 성능을 보인다. 개별 weak learner들에서 임의 변수 추출이 아닌 붓스트랩 방식의 변화가 좋은 결과로 이어질 수 있음을 확인할 수 있었다.\n",
    "- 여러 벤치마크 데이터에 대해서도 충분한 실험이 필요하다. "
   ]
  },
  {
   "cell_type": "markdown",
   "metadata": {},
   "source": [
    "---"
   ]
  },
  {
   "cell_type": "markdown",
   "metadata": {},
   "source": [
    "### 랜덤포레스트의 feature importance와 EBM의 변수 기여도 비교\n",
    "#### 데이터 설명 \n",
    "- [Download Link]\n",
    "    - https://www.kaggle.com/competitions/bike-sharing-demand/data\n",
    "- [목적]\n",
    "    - Forecast use of a city bikeshare system (자전거 공유 수요량 예측)\n",
    "- [특징]\n",
    "    - 2년 동안의 시간당 데이터로 구성됨\n",
    "    - Target 변수를 포함하여 총 12개의 변수로 구성됨\n",
    "    - 대여 기간 전에 사용할 수 있는 정보만 활용하여 테스트 세트에서 다루는 각 시간 동안 대여한 총 자전거 수 예측\n",
    "- [train data]\n",
    "    - 매월 1일부터 19일까지의 데이터\n",
    "- [test data]\n",
    "    - 20일부터 월말까지의 데이터\n",
    "- [변수 설명]\n",
    "    - datetime: hourly date + timestamp  \n",
    "    - season:  1 = spring, 2 = summer, 3 = fall, 4 = winter \n",
    "    - holiday: whether the day is considered a holiday\n",
    "    - workingday: whether the day is neither a weekend nor holiday\n",
    "    - weather:\n",
    "        - 1: Clear, Few clouds, Partly cloudy, Partly cloudy\n",
    "        - 2: Mist + Cloudy, Mist + Broken clouds, Mist + Few clouds, Mist\n",
    "        - 3: Light Snow, Light Rain + Thunderstorm + Scattered clouds, Light Rain + Scattered clouds\n",
    "        - 4: Heavy Rain + Ice Pallets + Thunderstorm + Mist, Snow + Fog \n",
    "    - temp: temperature in Celsius\n",
    "    - atemp: \"feels like\" temperature in Celsius\n",
    "    - humidity: relative humidity\n",
    "    - windspeed: wind speed\n",
    "    - casual: number of non-registered user rentals initiated\n",
    "    - registered: number of registered user rentals initiated\n",
    "    - count: number of total rentals (target)"
   ]
  },
  {
   "cell_type": "code",
   "execution_count": 215,
   "metadata": {},
   "outputs": [],
   "source": [
    "import pandas as pd\n",
    "import numpy as np\n",
    "from sklearn.model_selection import train_test_split\n",
    "from sklearn.metrics import mean_squared_error\n",
    "from sklearn.metrics import *"
   ]
  },
  {
   "cell_type": "code",
   "execution_count": 216,
   "metadata": {},
   "outputs": [
    {
     "name": "stdout",
     "output_type": "stream",
     "text": [
      "(10886, 12)\n"
     ]
    },
    {
     "data": {
      "text/html": [
       "<div>\n",
       "<style scoped>\n",
       "    .dataframe tbody tr th:only-of-type {\n",
       "        vertical-align: middle;\n",
       "    }\n",
       "\n",
       "    .dataframe tbody tr th {\n",
       "        vertical-align: top;\n",
       "    }\n",
       "\n",
       "    .dataframe thead th {\n",
       "        text-align: right;\n",
       "    }\n",
       "</style>\n",
       "<table border=\"1\" class=\"dataframe\">\n",
       "  <thead>\n",
       "    <tr style=\"text-align: right;\">\n",
       "      <th></th>\n",
       "      <th>datetime</th>\n",
       "      <th>season</th>\n",
       "      <th>holiday</th>\n",
       "      <th>workingday</th>\n",
       "      <th>weather</th>\n",
       "      <th>temp</th>\n",
       "      <th>atemp</th>\n",
       "      <th>humidity</th>\n",
       "      <th>windspeed</th>\n",
       "      <th>casual</th>\n",
       "      <th>registered</th>\n",
       "      <th>count</th>\n",
       "    </tr>\n",
       "  </thead>\n",
       "  <tbody>\n",
       "    <tr>\n",
       "      <th>0</th>\n",
       "      <td>2011-01-01 00:00:00</td>\n",
       "      <td>1</td>\n",
       "      <td>0</td>\n",
       "      <td>0</td>\n",
       "      <td>1</td>\n",
       "      <td>9.84</td>\n",
       "      <td>14.395</td>\n",
       "      <td>81</td>\n",
       "      <td>0.0</td>\n",
       "      <td>3</td>\n",
       "      <td>13</td>\n",
       "      <td>16</td>\n",
       "    </tr>\n",
       "    <tr>\n",
       "      <th>1</th>\n",
       "      <td>2011-01-01 01:00:00</td>\n",
       "      <td>1</td>\n",
       "      <td>0</td>\n",
       "      <td>0</td>\n",
       "      <td>1</td>\n",
       "      <td>9.02</td>\n",
       "      <td>13.635</td>\n",
       "      <td>80</td>\n",
       "      <td>0.0</td>\n",
       "      <td>8</td>\n",
       "      <td>32</td>\n",
       "      <td>40</td>\n",
       "    </tr>\n",
       "    <tr>\n",
       "      <th>2</th>\n",
       "      <td>2011-01-01 02:00:00</td>\n",
       "      <td>1</td>\n",
       "      <td>0</td>\n",
       "      <td>0</td>\n",
       "      <td>1</td>\n",
       "      <td>9.02</td>\n",
       "      <td>13.635</td>\n",
       "      <td>80</td>\n",
       "      <td>0.0</td>\n",
       "      <td>5</td>\n",
       "      <td>27</td>\n",
       "      <td>32</td>\n",
       "    </tr>\n",
       "    <tr>\n",
       "      <th>3</th>\n",
       "      <td>2011-01-01 03:00:00</td>\n",
       "      <td>1</td>\n",
       "      <td>0</td>\n",
       "      <td>0</td>\n",
       "      <td>1</td>\n",
       "      <td>9.84</td>\n",
       "      <td>14.395</td>\n",
       "      <td>75</td>\n",
       "      <td>0.0</td>\n",
       "      <td>3</td>\n",
       "      <td>10</td>\n",
       "      <td>13</td>\n",
       "    </tr>\n",
       "    <tr>\n",
       "      <th>4</th>\n",
       "      <td>2011-01-01 04:00:00</td>\n",
       "      <td>1</td>\n",
       "      <td>0</td>\n",
       "      <td>0</td>\n",
       "      <td>1</td>\n",
       "      <td>9.84</td>\n",
       "      <td>14.395</td>\n",
       "      <td>75</td>\n",
       "      <td>0.0</td>\n",
       "      <td>0</td>\n",
       "      <td>1</td>\n",
       "      <td>1</td>\n",
       "    </tr>\n",
       "  </tbody>\n",
       "</table>\n",
       "</div>"
      ],
      "text/plain": [
       "              datetime  season  holiday  workingday  weather  temp   atemp  \\\n",
       "0  2011-01-01 00:00:00       1        0           0        1  9.84  14.395   \n",
       "1  2011-01-01 01:00:00       1        0           0        1  9.02  13.635   \n",
       "2  2011-01-01 02:00:00       1        0           0        1  9.02  13.635   \n",
       "3  2011-01-01 03:00:00       1        0           0        1  9.84  14.395   \n",
       "4  2011-01-01 04:00:00       1        0           0        1  9.84  14.395   \n",
       "\n",
       "   humidity  windspeed  casual  registered  count  \n",
       "0        81        0.0       3          13     16  \n",
       "1        80        0.0       8          32     40  \n",
       "2        80        0.0       5          27     32  \n",
       "3        75        0.0       3          10     13  \n",
       "4        75        0.0       0           1      1  "
      ]
     },
     "execution_count": 216,
     "metadata": {},
     "output_type": "execute_result"
    }
   ],
   "source": [
    "# 데이터 불러오기 및 확인\n",
    "df = pd.read_csv('data/bike_train.csv')\n",
    "print(df.shape)\n",
    "df.head()"
   ]
  },
  {
   "cell_type": "code",
   "execution_count": 217,
   "metadata": {},
   "outputs": [],
   "source": [
    "# date 관련 변수 생성\n",
    "df.datetime = pd.to_datetime(df.datetime)\n",
    "df['year'] = df['datetime'].dt.year\n",
    "df['month'] = df['datetime'].dt.month\n",
    "df['day'] = df['datetime'].dt.day\n",
    "df['hour'] = df['datetime'].dt.hour"
   ]
  },
  {
   "cell_type": "code",
   "execution_count": 218,
   "metadata": {},
   "outputs": [
    {
     "data": {
      "text/plain": [
       "datetime      0\n",
       "season        0\n",
       "holiday       0\n",
       "workingday    0\n",
       "weather       0\n",
       "temp          0\n",
       "atemp         0\n",
       "humidity      0\n",
       "windspeed     0\n",
       "casual        0\n",
       "registered    0\n",
       "count         0\n",
       "year          0\n",
       "month         0\n",
       "day           0\n",
       "hour          0\n",
       "dtype: int64"
      ]
     },
     "execution_count": 218,
     "metadata": {},
     "output_type": "execute_result"
    }
   ],
   "source": [
    "df.isnull().sum()"
   ]
  },
  {
   "cell_type": "code",
   "execution_count": 219,
   "metadata": {},
   "outputs": [
    {
     "data": {
      "text/plain": [
       "<AxesSubplot:>"
      ]
     },
     "execution_count": 219,
     "metadata": {},
     "output_type": "execute_result"
    },
    {
     "data": {
      "image/png": "[encoded data removed]",
      "text/plain": [
       "<Figure size 1440x360 with 1 Axes>"
      ]
     },
     "metadata": {},
     "output_type": "display_data"
    }
   ],
   "source": [
    "## 대여횟수에 따른 구간화 -> 향후 붓스트랩이 적은 관측치들에 대한 특징을 가진 학습데이터를 만들어 내는가 확인\n",
    "df['count'].hist(bins = 30, figsize = (20,5))"
   ]
  },
  {
   "cell_type": "code",
   "execution_count": 220,
   "metadata": {},
   "outputs": [],
   "source": [
    "# 타겟 변수를 범주형 변수로 만들기 위해 구간화 수행\n",
    "ranges = [0, 50, 200, 300, 450, 600, 700, 800, 1000]\n",
    "labels = ['LLLowest','Lowest', 'Low', 'Medium', 'High','Highest', 'HHHighest', 'Top']\n",
    "df['count_bin'] = pd.cut(df['count'], bins=ranges,labels=labels, include_lowest=True)\n",
    "df.drop('count', axis=1, inplace=True)"
   ]
  },
  {
   "cell_type": "code",
   "execution_count": 221,
   "metadata": {},
   "outputs": [
    {
     "data": {
      "text/plain": [
       "Lowest       3715\n",
       "LLLowest     2969\n",
       "Low          1720\n",
       "Medium       1379\n",
       "High          691\n",
       "Highest       216\n",
       "HHHighest     110\n",
       "Top            86\n",
       "Name: count_bin, dtype: int64"
      ]
     },
     "execution_count": 221,
     "metadata": {},
     "output_type": "execute_result"
    }
   ],
   "source": [
    "# 클래스들이 불균형하도록 설정\n",
    "df['count_bin'].value_counts()"
   ]
  },
  {
   "cell_type": "code",
   "execution_count": 222,
   "metadata": {},
   "outputs": [
    {
     "name": "stdout",
     "output_type": "stream",
     "text": [
      "학습데이터 크기: (8708, 14)\n",
      "평가데이터 크기: (2178, 14)\n"
     ]
    }
   ],
   "source": [
    "X = df.drop(['datetime','count_bin'], axis=1)\n",
    "y = df['count_bin']\n",
    "\n",
    "x_train, x_test, y_train, y_test = train_test_split(X, y, test_size = 0.2, random_state=42, stratify=y)\n",
    "print('학습데이터 크기:', x_train.shape)\n",
    "print('평가데이터 크기:', x_test.shape)"
   ]
  },
  {
   "cell_type": "code",
   "execution_count": 223,
   "metadata": {},
   "outputs": [
    {
     "data": {
      "text/plain": [
       "Lowest       2971\n",
       "LLLowest     2375\n",
       "Low          1376\n",
       "Medium       1103\n",
       "High          553\n",
       "Highest       173\n",
       "HHHighest      88\n",
       "Top            69\n",
       "Name: count_bin, dtype: int64"
      ]
     },
     "execution_count": 223,
     "metadata": {},
     "output_type": "execute_result"
    }
   ],
   "source": [
    "y_train.value_counts()"
   ]
  },
  {
   "cell_type": "markdown",
   "metadata": {},
   "source": [
    "### Random Forest (RF) 적용\n",
    "- RF 예측 결과 확인 (디테일한 파라미터 튜닝 x)\n",
    "- 각 개별 나무들과 붓스트랩 확인"
   ]
  },
  {
   "cell_type": "code",
   "execution_count": 224,
   "metadata": {},
   "outputs": [],
   "source": [
    "# 디폴트 파라미터를 사용하여 모델 fitting 및 predict\n",
    "rf = RandomForestClassifier(n_estimators=100, random_state=42)\n",
    "rf.fit(x_train, y_train)\n",
    "rf_prediction = rf.predict(x_test)"
   ]
  },
  {
   "cell_type": "code",
   "execution_count": 225,
   "metadata": {},
   "outputs": [
    {
     "name": "stdout",
     "output_type": "stream",
     "text": [
      "              precision    recall  f1-score   support\n",
      "\n",
      "   HHHighest       0.65      0.59      0.62        22\n",
      "        High       0.90      0.88      0.89       138\n",
      "     Highest       0.79      0.70      0.74        43\n",
      "    LLLowest       0.99      0.99      0.99       594\n",
      "         Low       0.95      0.94      0.94       344\n",
      "      Lowest       0.98      0.98      0.98       744\n",
      "      Medium       0.90      0.95      0.92       276\n",
      "         Top       0.88      0.82      0.85        17\n",
      "\n",
      "    accuracy                           0.96      2178\n",
      "   macro avg       0.88      0.86      0.87      2178\n",
      "weighted avg       0.96      0.96      0.96      2178\n",
      "\n"
     ]
    }
   ],
   "source": [
    "# 분류결과 확인\n",
    "print(classification_report(y_test, rf_prediction))"
   ]
  },
  {
   "cell_type": "code",
   "execution_count": 226,
   "metadata": {},
   "outputs": [
    {
     "data": {
      "text/html": [
       "<div>\n",
       "<style scoped>\n",
       "    .dataframe tbody tr th:only-of-type {\n",
       "        vertical-align: middle;\n",
       "    }\n",
       "\n",
       "    .dataframe tbody tr th {\n",
       "        vertical-align: top;\n",
       "    }\n",
       "\n",
       "    .dataframe thead th {\n",
       "        text-align: right;\n",
       "    }\n",
       "</style>\n",
       "<table border=\"1\" class=\"dataframe\">\n",
       "  <thead>\n",
       "    <tr style=\"text-align: right;\">\n",
       "      <th></th>\n",
       "      <th>feature</th>\n",
       "      <th>importances</th>\n",
       "    </tr>\n",
       "  </thead>\n",
       "  <tbody>\n",
       "    <tr>\n",
       "      <th>0</th>\n",
       "      <td>registered</td>\n",
       "      <td>0.517980</td>\n",
       "    </tr>\n",
       "    <tr>\n",
       "      <th>1</th>\n",
       "      <td>casual</td>\n",
       "      <td>0.163635</td>\n",
       "    </tr>\n",
       "    <tr>\n",
       "      <th>2</th>\n",
       "      <td>hour</td>\n",
       "      <td>0.126465</td>\n",
       "    </tr>\n",
       "    <tr>\n",
       "      <th>3</th>\n",
       "      <td>humidity</td>\n",
       "      <td>0.031116</td>\n",
       "    </tr>\n",
       "    <tr>\n",
       "      <th>4</th>\n",
       "      <td>atemp</td>\n",
       "      <td>0.029183</td>\n",
       "    </tr>\n",
       "    <tr>\n",
       "      <th>5</th>\n",
       "      <td>temp</td>\n",
       "      <td>0.027113</td>\n",
       "    </tr>\n",
       "    <tr>\n",
       "      <th>6</th>\n",
       "      <td>windspeed</td>\n",
       "      <td>0.020100</td>\n",
       "    </tr>\n",
       "    <tr>\n",
       "      <th>7</th>\n",
       "      <td>day</td>\n",
       "      <td>0.019439</td>\n",
       "    </tr>\n",
       "    <tr>\n",
       "      <th>8</th>\n",
       "      <td>month</td>\n",
       "      <td>0.018158</td>\n",
       "    </tr>\n",
       "    <tr>\n",
       "      <th>9</th>\n",
       "      <td>workingday</td>\n",
       "      <td>0.015353</td>\n",
       "    </tr>\n",
       "    <tr>\n",
       "      <th>10</th>\n",
       "      <td>year</td>\n",
       "      <td>0.014235</td>\n",
       "    </tr>\n",
       "    <tr>\n",
       "      <th>11</th>\n",
       "      <td>season</td>\n",
       "      <td>0.009437</td>\n",
       "    </tr>\n",
       "    <tr>\n",
       "      <th>12</th>\n",
       "      <td>weather</td>\n",
       "      <td>0.006576</td>\n",
       "    </tr>\n",
       "    <tr>\n",
       "      <th>13</th>\n",
       "      <td>holiday</td>\n",
       "      <td>0.001210</td>\n",
       "    </tr>\n",
       "  </tbody>\n",
       "</table>\n",
       "</div>"
      ],
      "text/plain": [
       "       feature  importances\n",
       "0   registered     0.517980\n",
       "1       casual     0.163635\n",
       "2         hour     0.126465\n",
       "3     humidity     0.031116\n",
       "4        atemp     0.029183\n",
       "5         temp     0.027113\n",
       "6    windspeed     0.020100\n",
       "7          day     0.019439\n",
       "8        month     0.018158\n",
       "9   workingday     0.015353\n",
       "10        year     0.014235\n",
       "11      season     0.009437\n",
       "12     weather     0.006576\n",
       "13     holiday     0.001210"
      ]
     },
     "execution_count": 226,
     "metadata": {},
     "output_type": "execute_result"
    }
   ],
   "source": [
    "importance = rf.feature_importances_\n",
    "feature = x_train.columns\n",
    "importances = pd.DataFrame()\n",
    "importances['feature'] = feature\n",
    "importances['importances'] = importance\n",
    "importances.sort_values('importances', ascending=False, inplace=True)\n",
    "importances.reset_index(drop=True, inplace=True)\n",
    "importances"
   ]
  },
  {
   "cell_type": "code",
   "execution_count": 228,
   "metadata": {},
   "outputs": [
    {
     "data": {
      "image/png": "[encoded data removed]",
      "text/plain": [
       "<Figure size 720x576 with 1 Axes>"
      ]
     },
     "metadata": {},
     "output_type": "display_data"
    }
   ],
   "source": [
    "# 특성 중요도 시각화\n",
    "plt.figure(figsize=(10, 8))\n",
    "sns.barplot(x='importances', y='feature', data=importances)\n",
    "plt.title('Random Forest Feature Importances', fontsize=18)\n",
    "plt.show()"
   ]
  },
  {
   "cell_type": "markdown",
   "metadata": {},
   "source": [
    "### EBM 적용\n",
    "- EBM의 해석 결과 확인\n",
    "- RF와 Extre tree의 feature importance 확인\n",
    "- 변수 영향력 확인에 있어서 어떤 차이가 존재하는가?"
   ]
  },
  {
   "cell_type": "code",
   "execution_count": 237,
   "metadata": {},
   "outputs": [
    {
     "name": "stderr",
     "output_type": "stream",
     "text": [
      "c:\\Users\\RohSeungChan\\Anaconda3\\lib\\site-packages\\interpret\\glassbox\\ebm\\ebm.py:568: UserWarning: Detected multiclass problem. Forcing interactions to 0. Multiclass interactions work except for global visualizations, so the line below setting interactions to zero can be disabled if you know what you are doing.\n",
      "  warn(\"Detected multiclass problem. Forcing interactions to 0. Multiclass interactions work except for global visualizations, so the line below setting interactions to zero can be disabled if you know what you are doing.\")\n"
     ]
    },
    {
     "data": {
      "text/plain": [
       "ExplainableBoostingClassifier(n_jobs=1)"
      ]
     },
     "execution_count": 237,
     "metadata": {},
     "output_type": "execute_result"
    }
   ],
   "source": [
    "from interpret import show\n",
    "from interpret.glassbox import ExplainableBoostingClassifier\n",
    "ebm = ExplainableBoostingClassifier(random_state=42, n_jobs=1)\n",
    "ebm.fit(x_train, y_train)"
   ]
  },
  {
   "cell_type": "code",
   "execution_count": 240,
   "metadata": {},
   "outputs": [
    {
     "data": {
      "text/html": [
       "<!-- http://127.0.0.1:7001/2167442548432/ -->\n",
       "<iframe src=\"http://127.0.0.1:7001/2167442548432/\" width=100% height=800 frameBorder=\"0\"></iframe>"
      ]
     },
     "metadata": {},
     "output_type": "display_data"
    }
   ],
   "source": [
    "ebm_global = ebm.explain_global(name = 'EBM')\n",
    "show(ebm_global)"
   ]
  },
  {
   "cell_type": "markdown",
   "metadata": {},
   "source": [
    "![](2022-12-01-23-49-17.png)"
   ]
  },
  {
   "cell_type": "code",
   "execution_count": 242,
   "metadata": {},
   "outputs": [
    {
     "data": {
      "text/html": [
       "<!-- http://127.0.0.1:7001/2167453945664/ -->\n",
       "<iframe src=\"http://127.0.0.1:7001/2167453945664/\" width=100% height=800 frameBorder=\"0\"></iframe>"
      ]
     },
     "metadata": {},
     "output_type": "display_data"
    }
   ],
   "source": [
    "ebm_local = ebm.explain_local(x_test[:4], y_test[:4], name='EBM') \n",
    "show(ebm_local)"
   ]
  },
  {
   "cell_type": "markdown",
   "metadata": {},
   "source": [
    "![](2022-12-01-23-49-48.png)"
   ]
  },
  {
   "cell_type": "markdown",
   "metadata": {},
   "source": [
    "[해석]\n",
    "- 랜덤포레스트의 feature importance와 다르게 EBM은 더 정확한 해석력을 제공한다.\n",
    "    - 랜덤성 제거\n",
    "    - GAM 방식의 명확한 변수별 기여도 계산\n",
    "- EBM 결과 해석\n",
    "    - 1번 그래프) 자전거 렌탈을 많이 하는가 아닌가를 예측하는 데 있어서 ['registered','real','casual'] 변수가 가장 중요하다는 것을 알 수 있다.\n",
    "    - 2번 그래프) 1번째 test 데이터를 분류할 때 각 범주별로 관측치에 얼마나 영향을 받았는가를 보여준다. 1번 관측치를 'High' 범주로 에측하는데 있어서 ['registered','casual'] 변수가 주요하게 작용하였다.\n",
    "- Multi-class일 때의 EBM 해석은 조금 더 공부를 해볼 필요가 있다."
   ]
  }
 ],
 "metadata": {
  "kernelspec": {
   "display_name": "Python 3.9.7 ('base')",
   "language": "python",
   "name": "python3"
  },
  "language_info": {
   "codemirror_mode": {
    "name": "ipython",
    "version": 3
   },
   "file_extension": ".py",
   "mimetype": "text/x-python",
   "name": "python",
   "nbconvert_exporter": "python",
   "pygments_lexer": "ipython3",
   "version": "3.9.7"
  },
  "orig_nbformat": 4,
  "vscode": {
   "interpreter": {
    "hash": "ad4f16d229adb25384c31f99ba23db4472805accc52a8673f9315cbe6cbb6c37"
   }
  }
 },
 "nbformat": 4,
 "nbformat_minor": 2
}
